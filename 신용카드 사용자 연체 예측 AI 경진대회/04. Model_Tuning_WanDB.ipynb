{
 "cells": [
  {
   "cell_type": "markdown",
   "metadata": {
    "id": "7fHL3ONZ55I-"
   },
   "source": [
    "### Context\n",
    "\n",
    "#### Experiment Tools\n",
    "\n",
    "- wandb"
   ]
  },
  {
   "cell_type": "code",
   "execution_count": 1,
   "metadata": {
    "colab": {
     "base_uri": "https://localhost:8080/"
    },
    "executionInfo": {
     "elapsed": 2411,
     "status": "ok",
     "timestamp": 1628181645489,
     "user": {
      "displayName": "I'm so Seoli",
      "photoUrl": "https://lh3.googleusercontent.com/a-/AOh14GgoGeyLbd3gxLLgPS5f5k5dEcdMQc_ZsAy-42tyJg=s64",
      "userId": "18012903892325475989"
     },
     "user_tz": -540
    },
    "id": "ogiDndhgEb2b",
    "outputId": "255a2ab8-82ad-4d7e-c07c-b43f7530fcda"
   },
   "outputs": [],
   "source": [
    "# !pip install wandb"
   ]
  },
  {
   "cell_type": "markdown",
   "metadata": {},
   "source": [
    "- json 파일로 관리하면 좋음"
   ]
  },
  {
   "cell_type": "code",
   "execution_count": 2,
   "metadata": {
    "executionInfo": {
     "elapsed": 7,
     "status": "ok",
     "timestamp": 1628181643084,
     "user": {
      "displayName": "I'm so Seoli",
      "photoUrl": "https://lh3.googleusercontent.com/a-/AOh14GgoGeyLbd3gxLLgPS5f5k5dEcdMQc_ZsAy-42tyJg=s64",
      "userId": "18012903892325475989"
     },
     "user_tz": -540
    },
    "id": "vJz8Kvl8EDpR"
   },
   "outputs": [],
   "source": [
    "sweep_config = {\n",
    "  \"name\" : \"mdc_sweep\",\n",
    "  \"method\" : \"bayes\",\n",
    "  \"parameters\" : {\n",
    "    \"max_depth\" : {\n",
    "      \"distribution\": \"int_uniform\",\n",
    "      \"min\":2,\n",
    "      \"max\":15\n",
    "    },\n",
    "    \"subsample\" :{\n",
    "      \"distribution\": \"uniform\",\n",
    "      \"min\": 0.5,\n",
    "      \"max\": 1.0\n",
    "    },\n",
    "    \"colsample_bytree\":{\n",
    "      \"distribution\": \"uniform\",\n",
    "      \"min\": 0.5,\n",
    "      \"max\": 1.0\n",
    "    }\n",
    "  },\n",
    "  \"metric\":{\n",
    "      \"name\": \"cv_loss\",\n",
    "      \"goal\": \"minimize\"\n",
    "  }\n",
    "}\n"
   ]
  },
  {
   "cell_type": "code",
   "execution_count": 3,
   "metadata": {
    "colab": {
     "base_uri": "https://localhost:8080/",
     "height": 187
    },
    "executionInfo": {
     "elapsed": 3211,
     "status": "ok",
     "timestamp": 1628181648694,
     "user": {
      "displayName": "I'm so Seoli",
      "photoUrl": "https://lh3.googleusercontent.com/a-/AOh14GgoGeyLbd3gxLLgPS5f5k5dEcdMQc_ZsAy-42tyJg=s64",
      "userId": "18012903892325475989"
     },
     "user_tz": -540
    },
    "id": "aAfXTYpj5ysB",
    "outputId": "903d4b15-0992-4e9d-cc57-cb1cc74773e4"
   },
   "outputs": [
    {
     "name": "stderr",
     "output_type": "stream",
     "text": [
      "wandb: Currently logged in as: kendrickaskedforgeotjeori (use `wandb login --relogin` to force relogin)\n"
     ]
    },
    {
     "data": {
      "text/html": [
       "\n",
       "                Tracking run with wandb version 0.12.1<br/>\n",
       "                Syncing run <strong style=\"color:#cdcd00\">twilight-serenity-4</strong> to <a href=\"https://wandb.ai\" target=\"_blank\">Weights & Biases</a> <a href=\"https://docs.wandb.com/integrations/jupyter.html\" target=\"_blank\">(Documentation)</a>.<br/>\n",
       "                Project page: <a href=\"https://wandb.ai/kendrickaskedforgeotjeori/uncategorized\" target=\"_blank\">https://wandb.ai/kendrickaskedforgeotjeori/uncategorized</a><br/>\n",
       "                Run page: <a href=\"https://wandb.ai/kendrickaskedforgeotjeori/uncategorized/runs/547rrur3\" target=\"_blank\">https://wandb.ai/kendrickaskedforgeotjeori/uncategorized/runs/547rrur3</a><br/>\n",
       "                Run data is saved locally in <code>C:\\Python\\Untitled Folder\\wandb\\run-20210913_231144-547rrur3</code><br/><br/>\n",
       "            "
      ],
      "text/plain": [
       "<IPython.core.display.HTML object>"
      ]
     },
     "metadata": {},
     "output_type": "display_data"
    },
    {
     "name": "stderr",
     "output_type": "stream",
     "text": [
      "wandb: WARNING Calling wandb.login() after wandb.init() has no effect.\n"
     ]
    },
    {
     "name": "stdout",
     "output_type": "stream",
     "text": [
      "Create sweep with ID: y129mdb1\n",
      "Sweep URL: https://wandb.ai/kendrickaskedforgeotjeori/medici%20wandb%20test/sweeps/y129mdb1\n"
     ]
    }
   ],
   "source": [
    "import os\n",
    "from os.path import join\n",
    "\n",
    "import multiprocessing\n",
    "import warnings\n",
    "warnings.filterwarnings('ignore')\n",
    "\n",
    "import numpy as np\n",
    "import pandas as pd\n",
    "\n",
    "import wandb\n",
    "\n",
    "# 웹 서버 연결\n",
    "wandb.init()\n",
    "\n",
    "# optuna 세팅\n",
    "sweep_id = wandb.sweep(sweep_config, \n",
    "                       project=\"medici wandb test\")\n",
    "\n",
    "n_cpus = multiprocessing.cpu_count()"
   ]
  },
  {
   "cell_type": "code",
   "execution_count": 4,
   "metadata": {
    "executionInfo": {
     "elapsed": 414,
     "status": "ok",
     "timestamp": 1628181649102,
     "user": {
      "displayName": "I'm so Seoli",
      "photoUrl": "https://lh3.googleusercontent.com/a-/AOh14GgoGeyLbd3gxLLgPS5f5k5dEcdMQc_ZsAy-42tyJg=s64",
      "userId": "18012903892325475989"
     },
     "user_tz": -540
    },
    "id": "gH-_VIMQEDpZ"
   },
   "outputs": [],
   "source": [
    "BASE_DIR = './data' \n",
    "\n",
    "train_path = os.path.join(BASE_DIR, 'train.csv')\n",
    "test_path = os.path.join(BASE_DIR, 'test.csv')\n",
    "submission_path = os.path.join(BASE_DIR, 'sample_submission.csv')\n",
    "\n",
    "data = pd.read_csv(train_path)\n",
    "test = pd.read_csv(test_path)\n",
    "\n",
    "label = data['credit']"
   ]
  },
  {
   "cell_type": "code",
   "execution_count": 5,
   "metadata": {
    "executionInfo": {
     "elapsed": 10,
     "status": "ok",
     "timestamp": 1628181649103,
     "user": {
      "displayName": "I'm so Seoli",
      "photoUrl": "https://lh3.googleusercontent.com/a-/AOh14GgoGeyLbd3gxLLgPS5f5k5dEcdMQc_ZsAy-42tyJg=s64",
      "userId": "18012903892325475989"
     },
     "user_tz": -540
    },
    "id": "yZ9UxpS9EDpa"
   },
   "outputs": [],
   "source": [
    "# 불필요한 컬럼 제거\n",
    "data.drop(columns=['index', 'credit'], inplace=True)\n",
    "test.drop(columns=['index'],         inplace=True)"
   ]
  },
  {
   "cell_type": "code",
   "execution_count": 6,
   "metadata": {
    "colab": {
     "base_uri": "https://localhost:8080/"
    },
    "executionInfo": {
     "elapsed": 10,
     "status": "ok",
     "timestamp": 1628181649104,
     "user": {
      "displayName": "I'm so Seoli",
      "photoUrl": "https://lh3.googleusercontent.com/a-/AOh14GgoGeyLbd3gxLLgPS5f5k5dEcdMQc_ZsAy-42tyJg=s64",
      "userId": "18012903892325475989"
     },
     "user_tz": -540
    },
    "id": "7CrFI2GIEDpc",
    "outputId": "c1ffb29f-8c20-4865-b5f3-75dd3755b28a"
   },
   "outputs": [
    {
     "name": "stdout",
     "output_type": "stream",
     "text": [
      "Categorical Columns: \n",
      "['gender', 'car', 'reality', 'income_type', 'edu_type', 'family_type', 'house_type', 'occyp_type']\n",
      "\n",
      "Numeric Columns: \n",
      "['child_num', 'income_total', 'DAYS_BIRTH', 'DAYS_EMPLOYED', 'FLAG_MOBIL', 'work_phone', 'phone', 'email', 'family_size', 'begin_month']\n"
     ]
    }
   ],
   "source": [
    "cat_columns = [c for c, t in zip(data.dtypes.index, data.dtypes) if t == 'O'] \n",
    "num_columns = [c for c    in data.columns if c not in cat_columns]\n",
    "\n",
    "print('Categorical Columns: \\n{}\\n'.format(cat_columns))\n",
    "print('Numeric Columns: \\n{}'.format(num_columns))"
   ]
  },
  {
   "cell_type": "markdown",
   "metadata": {
    "id": "_N5-NlqOEDpe"
   },
   "source": [
    "#### 라벨 데이터 인코딩"
   ]
  },
  {
   "cell_type": "code",
   "execution_count": 7,
   "metadata": {
    "executionInfo": {
     "elapsed": 8,
     "status": "ok",
     "timestamp": 1628181649105,
     "user": {
      "displayName": "I'm so Seoli",
      "photoUrl": "https://lh3.googleusercontent.com/a-/AOh14GgoGeyLbd3gxLLgPS5f5k5dEcdMQc_ZsAy-42tyJg=s64",
      "userId": "18012903892325475989"
     },
     "user_tz": -540
    },
    "id": "cRHtxFLCEDpf"
   },
   "outputs": [],
   "source": [
    "label = label.astype(int)"
   ]
  },
  {
   "cell_type": "markdown",
   "metadata": {
    "id": "lnoCcS0eEDph"
   },
   "source": [
    "#### 전처리 프로세스 함수로 작성"
   ]
  },
  {
   "cell_type": "code",
   "execution_count": 8,
   "metadata": {
    "executionInfo": {
     "elapsed": 284,
     "status": "ok",
     "timestamp": 1628181649381,
     "user": {
      "displayName": "I'm so Seoli",
      "photoUrl": "https://lh3.googleusercontent.com/a-/AOh14GgoGeyLbd3gxLLgPS5f5k5dEcdMQc_ZsAy-42tyJg=s64",
      "userId": "18012903892325475989"
     },
     "user_tz": -540
    },
    "id": "mp0An34aEDpi"
   },
   "outputs": [],
   "source": [
    "from sklearn.impute import SimpleImputer\n",
    "from sklearn.preprocessing import StandardScaler, OneHotEncoder\n",
    "\n",
    "def preprocess(x_train, x_valid, x_test):\n",
    "    tmp_x_train = x_train.copy()\n",
    "    tmp_x_valid = x_valid.copy()\n",
    "    tmp_x_test  = x_test.copy()\n",
    "    \n",
    "    tmp_x_train.reset_index(drop=True, inplace=True)\n",
    "    tmp_x_valid.reset_index(drop=True, inplace=True)\n",
    "    \n",
    "    # 결측치 처리\n",
    "    imputer = SimpleImputer(strategy='most_frequent')\n",
    "    tmp_x_train[cat_columns] = imputer.fit_transform(tmp_x_train[cat_columns])\n",
    "    tmp_x_valid[cat_columns] = imputer.transform(tmp_x_valid[cat_columns])\n",
    "    tmp_x_test[cat_columns]  = imputer.transform(tmp_x_test[cat_columns])\n",
    "    \n",
    "    # 스케일링\n",
    "    scaler = StandardScaler()\n",
    "    tmp_x_train[num_columns] = scaler.fit_transform(tmp_x_train[num_columns])\n",
    "    tmp_x_valid[num_columns] = scaler.transform(tmp_x_valid[num_columns])\n",
    "    tmp_x_test[num_columns]  = scaler.transform(tmp_x_test[num_columns])\n",
    "\n",
    "    # 인코딩\n",
    "    ohe = OneHotEncoder(sparse=False)\n",
    "    ohe.fit(tmp_x_train[cat_columns])\n",
    "    \n",
    "    tmp_x_train_cat = pd.DataFrame(ohe.transform(tmp_x_train[cat_columns]))\n",
    "    tmp_x_valid_cat = pd.DataFrame(ohe.transform(tmp_x_valid[cat_columns]))\n",
    "    tmp_x_test_cat  = pd.DataFrame(ohe.transform(tmp_x_test[cat_columns]))\n",
    "    \n",
    "    tmp_x_train.drop(columns=cat_columns, inplace=True)\n",
    "    tmp_x_valid.drop(columns=cat_columns, inplace=True)\n",
    "    tmp_x_test.drop(columns=cat_columns, inplace=True)\n",
    "    \n",
    "    tmp_x_train = pd.concat([tmp_x_train, tmp_x_train_cat], axis=1)\n",
    "    tmp_x_valid = pd.concat([tmp_x_valid, tmp_x_valid_cat], axis=1)\n",
    "    tmp_x_test  = pd.concat([tmp_x_test, tmp_x_test_cat], axis=1)\n",
    "    \n",
    "    return tmp_x_train, tmp_x_valid, tmp_x_test"
   ]
  },
  {
   "cell_type": "markdown",
   "metadata": {
    "id": "d0YXWbF8EDpk"
   },
   "source": [
    "### Ensemble"
   ]
  },
  {
   "cell_type": "code",
   "execution_count": 9,
   "metadata": {
    "colab": {
     "base_uri": "https://localhost:8080/",
     "height": 1000,
     "referenced_widgets": [
      "6f92b779239646fba1fdd0ff6973059a",
      "23fb7df07b3d43da9a9ad893190af720",
      "dc9c7397512c4d10975752153eddff83",
      "3061e5a13a89437aa0d36a94e0ab54cc",
      "5a316f4fae634b0ab4c39fcaf5f99cb6",
      "ceee6e8b3b9e4a23844f482a3601bf0d",
      "101ba1c37df94d85a151bcf59b04fe1d",
      "ccc7a753e3e54e2180485cd96b6d6098",
      "d5d144d009e64b5eab0d7aea67effced",
      "bf9bafdd29df41dfb9b2f00d130cbd0d",
      "a5a900b3cd0944f29173d5a2ba286e20",
      "1e9f4a507eab425a91133ac02fa6aabb",
      "682e01be87c849a68ca7cb4ff65be39c",
      "e236e5d4f1a44464b76d90b27e37a621",
      "d5cbf0c2a07c4d269d529f931d818ca1",
      "e56c156d673345adbb0c0e5eb1be96fe"
     ]
    },
    "id": "CUeRRPyDEDpl",
    "outputId": "efd58cca-bdfd-41e1-82ce-e87aa41b5132",
    "scrolled": false
   },
   "outputs": [
    {
     "name": "stderr",
     "output_type": "stream",
     "text": [
      "wandb: WARNING Calling wandb.login() after wandb.init() has no effect.\n",
      "wandb: Agent Starting Run: wgal4hhf with config:\n",
      "wandb: \tcolsample_bytree: 0.5756749462422828\n",
      "wandb: \tmax_depth: 3\n",
      "wandb: \tsubsample: 0.5852859397198615\n"
     ]
    },
    {
     "data": {
      "text/html": [
       "\n",
       "                Tracking run with wandb version 0.12.1<br/>\n",
       "                Syncing run <strong style=\"color:#cdcd00\">hardy-sweep-1</strong> to <a href=\"https://wandb.ai\" target=\"_blank\">Weights & Biases</a> <a href=\"https://docs.wandb.com/integrations/jupyter.html\" target=\"_blank\">(Documentation)</a>.<br/>\n",
       "                Project page: <a href=\"https://wandb.ai/kendrickaskedforgeotjeori/medici%20wandb%20test\" target=\"_blank\">https://wandb.ai/kendrickaskedforgeotjeori/medici%20wandb%20test</a><br/>\n",
       "                Sweep page: <a href=\"https://wandb.ai/kendrickaskedforgeotjeori/medici%20wandb%20test/sweeps/y129mdb1\" target=\"_blank\">https://wandb.ai/kendrickaskedforgeotjeori/medici%20wandb%20test/sweeps/y129mdb1</a><br/>\n",
       "Run page: <a href=\"https://wandb.ai/kendrickaskedforgeotjeori/medici%20wandb%20test/runs/wgal4hhf\" target=\"_blank\">https://wandb.ai/kendrickaskedforgeotjeori/medici%20wandb%20test/runs/wgal4hhf</a><br/>\n",
       "                Run data is saved locally in <code>C:\\Python\\Untitled Folder\\wandb\\run-20210913_231156-wgal4hhf</code><br/><br/>\n",
       "            "
      ],
      "text/plain": [
       "<IPython.core.display.HTML object>"
      ]
     },
     "metadata": {},
     "output_type": "display_data"
    },
    {
     "name": "stdout",
     "output_type": "stream",
     "text": [
      "[0]\tvalidation_0-mlogloss:0.97893\tvalidation_1-mlogloss:0.97752\n",
      "[100]\tvalidation_0-mlogloss:0.73752\tvalidation_1-mlogloss:0.77913\n",
      "[200]\tvalidation_0-mlogloss:0.69462\tvalidation_1-mlogloss:0.76673\n",
      "[300]\tvalidation_0-mlogloss:0.66307\tvalidation_1-mlogloss:0.76092\n",
      "[400]\tvalidation_0-mlogloss:0.63506\tvalidation_1-mlogloss:0.75506\n",
      "[500]\tvalidation_0-mlogloss:0.61140\tvalidation_1-mlogloss:0.74666\n",
      "[600]\tvalidation_0-mlogloss:0.59180\tvalidation_1-mlogloss:0.74569\n",
      "[700]\tvalidation_0-mlogloss:0.57372\tvalidation_1-mlogloss:0.74429\n",
      "[789]\tvalidation_0-mlogloss:0.55990\tvalidation_1-mlogloss:0.74470\n",
      "0 Fold, train logloss : 0.57554, validation logloss : 0.7436\n",
      "[0]\tvalidation_0-mlogloss:0.97831\tvalidation_1-mlogloss:0.98028\n",
      "[100]\tvalidation_0-mlogloss:0.73282\tvalidation_1-mlogloss:0.79068\n",
      "[200]\tvalidation_0-mlogloss:0.69027\tvalidation_1-mlogloss:0.77834\n",
      "[300]\tvalidation_0-mlogloss:0.65877\tvalidation_1-mlogloss:0.77136\n",
      "[400]\tvalidation_0-mlogloss:0.63210\tvalidation_1-mlogloss:0.76626\n",
      "[500]\tvalidation_0-mlogloss:0.60927\tvalidation_1-mlogloss:0.76388\n",
      "[600]\tvalidation_0-mlogloss:0.58806\tvalidation_1-mlogloss:0.76161\n",
      "[700]\tvalidation_0-mlogloss:0.57111\tvalidation_1-mlogloss:0.76021\n",
      "[800]\tvalidation_0-mlogloss:0.55513\tvalidation_1-mlogloss:0.76037\n",
      "[875]\tvalidation_0-mlogloss:0.54377\tvalidation_1-mlogloss:0.75957\n",
      "1 Fold, train logloss : 0.55874, validation logloss : 0.7585\n",
      "[0]\tvalidation_0-mlogloss:1.00797\tvalidation_1-mlogloss:1.00837\n",
      "[100]\tvalidation_0-mlogloss:0.73911\tvalidation_1-mlogloss:0.78473\n",
      "[200]\tvalidation_0-mlogloss:0.69349\tvalidation_1-mlogloss:0.77053\n",
      "[300]\tvalidation_0-mlogloss:0.65981\tvalidation_1-mlogloss:0.76402\n",
      "[400]\tvalidation_0-mlogloss:0.63244\tvalidation_1-mlogloss:0.76013\n",
      "[500]\tvalidation_0-mlogloss:0.60809\tvalidation_1-mlogloss:0.75795\n",
      "[600]\tvalidation_0-mlogloss:0.58715\tvalidation_1-mlogloss:0.75623\n",
      "[700]\tvalidation_0-mlogloss:0.56940\tvalidation_1-mlogloss:0.75504\n",
      "[800]\tvalidation_0-mlogloss:0.55323\tvalidation_1-mlogloss:0.75598\n",
      "[856]\tvalidation_0-mlogloss:0.54462\tvalidation_1-mlogloss:0.75560\n",
      "2 Fold, train logloss : 0.55994, validation logloss : 0.7544\n",
      "[0]\tvalidation_0-mlogloss:1.00753\tvalidation_1-mlogloss:1.00803\n",
      "[100]\tvalidation_0-mlogloss:0.74067\tvalidation_1-mlogloss:0.78300\n",
      "[200]\tvalidation_0-mlogloss:0.69616\tvalidation_1-mlogloss:0.76613\n",
      "[300]\tvalidation_0-mlogloss:0.66247\tvalidation_1-mlogloss:0.75645\n",
      "[400]\tvalidation_0-mlogloss:0.63474\tvalidation_1-mlogloss:0.75325\n",
      "[500]\tvalidation_0-mlogloss:0.61028\tvalidation_1-mlogloss:0.74913\n",
      "[600]\tvalidation_0-mlogloss:0.58966\tvalidation_1-mlogloss:0.74761\n",
      "[700]\tvalidation_0-mlogloss:0.57160\tvalidation_1-mlogloss:0.74643\n",
      "[755]\tvalidation_0-mlogloss:0.56211\tvalidation_1-mlogloss:0.74527\n",
      "3 Fold, train logloss : 0.57944, validation logloss : 0.7451\n",
      "[0]\tvalidation_0-mlogloss:1.00753\tvalidation_1-mlogloss:1.00821\n",
      "[100]\tvalidation_0-mlogloss:0.74014\tvalidation_1-mlogloss:0.78145\n",
      "[200]\tvalidation_0-mlogloss:0.69555\tvalidation_1-mlogloss:0.76621\n",
      "[300]\tvalidation_0-mlogloss:0.66284\tvalidation_1-mlogloss:0.75972\n",
      "[400]\tvalidation_0-mlogloss:0.63484\tvalidation_1-mlogloss:0.75579\n",
      "[500]\tvalidation_0-mlogloss:0.61155\tvalidation_1-mlogloss:0.75408\n",
      "[600]\tvalidation_0-mlogloss:0.59022\tvalidation_1-mlogloss:0.75234\n",
      "[700]\tvalidation_0-mlogloss:0.57058\tvalidation_1-mlogloss:0.75371\n",
      "[739]\tvalidation_0-mlogloss:0.56392\tvalidation_1-mlogloss:0.75276\n",
      "4 Fold, train logloss : 0.58214, validation logloss : 0.7511\n"
     ]
    },
    {
     "data": {
      "text/html": [
       "<br/>Waiting for W&B process to finish, PID 21944<br/>Program ended successfully."
      ],
      "text/plain": [
       "<IPython.core.display.HTML object>"
      ]
     },
     "metadata": {},
     "output_type": "display_data"
    },
    {
     "data": {
      "application/vnd.jupyter.widget-view+json": {
       "model_id": "",
       "version_major": 2,
       "version_minor": 0
      },
      "text/plain": [
       "VBox(children=(Label(value=' 0.00MB of 0.00MB uploaded (0.00MB deduped)\\r'), FloatProgress(value=1.0, max=1.0)…"
      ]
     },
     "metadata": {},
     "output_type": "display_data"
    },
    {
     "data": {
      "text/html": [
       "Find user logs for this run at: <code>C:\\Python\\Untitled Folder\\wandb\\run-20210913_231156-wgal4hhf\\logs\\debug.log</code>"
      ],
      "text/plain": [
       "<IPython.core.display.HTML object>"
      ]
     },
     "metadata": {},
     "output_type": "display_data"
    },
    {
     "data": {
      "text/html": [
       "Find internal logs for this run at: <code>C:\\Python\\Untitled Folder\\wandb\\run-20210913_231156-wgal4hhf\\logs\\debug-internal.log</code>"
      ],
      "text/plain": [
       "<IPython.core.display.HTML object>"
      ]
     },
     "metadata": {},
     "output_type": "display_data"
    },
    {
     "data": {
      "text/html": [
       "<h3>Run summary:</h3><br/><style>\n",
       "    table.wandb td:nth-child(1) { padding: 0 10px; text-align: right }\n",
       "    </style><table class=\"wandb\">\n",
       "<tr><td>cv_loss</td><td>0.75054</td></tr><tr><td>_runtime</td><td>202</td></tr><tr><td>_timestamp</td><td>1631542518</td></tr><tr><td>_step</td><td>0</td></tr></table>"
      ],
      "text/plain": [
       "<IPython.core.display.HTML object>"
      ]
     },
     "metadata": {},
     "output_type": "display_data"
    },
    {
     "data": {
      "text/html": [
       "<h3>Run history:</h3><br/><style>\n",
       "    table.wandb td:nth-child(1) { padding: 0 10px; text-align: right }\n",
       "    </style><table class=\"wandb\">\n",
       "<tr><td>cv_loss</td><td>▁</td></tr><tr><td>_runtime</td><td>▁</td></tr><tr><td>_timestamp</td><td>▁</td></tr><tr><td>_step</td><td>▁</td></tr></table><br/>"
      ],
      "text/plain": [
       "<IPython.core.display.HTML object>"
      ]
     },
     "metadata": {},
     "output_type": "display_data"
    },
    {
     "data": {
      "text/html": [
       "Synced 5 W&B file(s), 0 media file(s), 0 artifact file(s) and 0 other file(s)"
      ],
      "text/plain": [
       "<IPython.core.display.HTML object>"
      ]
     },
     "metadata": {},
     "output_type": "display_data"
    },
    {
     "data": {
      "text/html": [
       "\n",
       "                    <br/>Synced <strong style=\"color:#cdcd00\">hardy-sweep-1</strong>: <a href=\"https://wandb.ai/kendrickaskedforgeotjeori/medici%20wandb%20test/runs/wgal4hhf\" target=\"_blank\">https://wandb.ai/kendrickaskedforgeotjeori/medici%20wandb%20test/runs/wgal4hhf</a><br/>\n",
       "                "
      ],
      "text/plain": [
       "<IPython.core.display.HTML object>"
      ]
     },
     "metadata": {},
     "output_type": "display_data"
    },
    {
     "name": "stderr",
     "output_type": "stream",
     "text": [
      "wandb: Agent Starting Run: o2r5krvz with config:\n",
      "wandb: \tcolsample_bytree: 0.7563521143590718\n",
      "wandb: \tmax_depth: 10\n",
      "wandb: \tsubsample: 0.7533199499098471\n"
     ]
    },
    {
     "data": {
      "text/html": [
       "\n",
       "                Tracking run with wandb version 0.12.1<br/>\n",
       "                Syncing run <strong style=\"color:#cdcd00\">true-sweep-2</strong> to <a href=\"https://wandb.ai\" target=\"_blank\">Weights & Biases</a> <a href=\"https://docs.wandb.com/integrations/jupyter.html\" target=\"_blank\">(Documentation)</a>.<br/>\n",
       "                Project page: <a href=\"https://wandb.ai/kendrickaskedforgeotjeori/medici%20wandb%20test\" target=\"_blank\">https://wandb.ai/kendrickaskedforgeotjeori/medici%20wandb%20test</a><br/>\n",
       "                Sweep page: <a href=\"https://wandb.ai/kendrickaskedforgeotjeori/medici%20wandb%20test/sweeps/y129mdb1\" target=\"_blank\">https://wandb.ai/kendrickaskedforgeotjeori/medici%20wandb%20test/sweeps/y129mdb1</a><br/>\n",
       "Run page: <a href=\"https://wandb.ai/kendrickaskedforgeotjeori/medici%20wandb%20test/runs/o2r5krvz\" target=\"_blank\">https://wandb.ai/kendrickaskedforgeotjeori/medici%20wandb%20test/runs/o2r5krvz</a><br/>\n",
       "                Run data is saved locally in <code>C:\\Python\\Untitled Folder\\wandb\\run-20210913_231524-o2r5krvz</code><br/><br/>\n",
       "            "
      ],
      "text/plain": [
       "<IPython.core.display.HTML object>"
      ]
     },
     "metadata": {},
     "output_type": "display_data"
    },
    {
     "name": "stdout",
     "output_type": "stream",
     "text": [
      "[0]\tvalidation_0-mlogloss:0.96133\tvalidation_1-mlogloss:0.97291\n",
      "[100]\tvalidation_0-mlogloss:0.26131\tvalidation_1-mlogloss:0.74501\n",
      "[155]\tvalidation_0-mlogloss:0.17649\tvalidation_1-mlogloss:0.79610\n",
      "0 Fold, train logloss : 0.38984, validation logloss : 0.7190\n",
      "[0]\tvalidation_0-mlogloss:0.96339\tvalidation_1-mlogloss:0.97831\n",
      "[100]\tvalidation_0-mlogloss:0.25557\tvalidation_1-mlogloss:0.77222\n",
      "[136]\tvalidation_0-mlogloss:0.19191\tvalidation_1-mlogloss:0.81166\n",
      "1 Fold, train logloss : 0.47754, validation logloss : 0.7381\n",
      "[0]\tvalidation_0-mlogloss:0.99092\tvalidation_1-mlogloss:1.00148\n",
      "[100]\tvalidation_0-mlogloss:0.25216\tvalidation_1-mlogloss:0.76649\n",
      "[150]\tvalidation_0-mlogloss:0.17390\tvalidation_1-mlogloss:0.82752\n",
      "2 Fold, train logloss : 0.40554, validation logloss : 0.7282\n",
      "[0]\tvalidation_0-mlogloss:0.98834\tvalidation_1-mlogloss:0.99924\n",
      "[100]\tvalidation_0-mlogloss:0.25795\tvalidation_1-mlogloss:0.76085\n",
      "[143]\tvalidation_0-mlogloss:0.18641\tvalidation_1-mlogloss:0.80826\n",
      "3 Fold, train logloss : 0.44014, validation logloss : 0.7316\n",
      "[0]\tvalidation_0-mlogloss:0.99194\tvalidation_1-mlogloss:1.00170\n",
      "[100]\tvalidation_0-mlogloss:0.25941\tvalidation_1-mlogloss:0.76856\n",
      "[145]\tvalidation_0-mlogloss:0.18068\tvalidation_1-mlogloss:0.82528\n",
      "4 Fold, train logloss : 0.43634, validation logloss : 0.7308\n"
     ]
    },
    {
     "data": {
      "text/html": [
       "<br/>Waiting for W&B process to finish, PID 10108<br/>Program ended successfully."
      ],
      "text/plain": [
       "<IPython.core.display.HTML object>"
      ]
     },
     "metadata": {},
     "output_type": "display_data"
    },
    {
     "data": {
      "application/vnd.jupyter.widget-view+json": {
       "model_id": "",
       "version_major": 2,
       "version_minor": 0
      },
      "text/plain": [
       "VBox(children=(Label(value=' 0.00MB of 0.00MB uploaded (0.00MB deduped)\\r'), FloatProgress(value=1.0, max=1.0)…"
      ]
     },
     "metadata": {},
     "output_type": "display_data"
    },
    {
     "data": {
      "text/html": [
       "Find user logs for this run at: <code>C:\\Python\\Untitled Folder\\wandb\\run-20210913_231524-o2r5krvz\\logs\\debug.log</code>"
      ],
      "text/plain": [
       "<IPython.core.display.HTML object>"
      ]
     },
     "metadata": {},
     "output_type": "display_data"
    },
    {
     "data": {
      "text/html": [
       "Find internal logs for this run at: <code>C:\\Python\\Untitled Folder\\wandb\\run-20210913_231524-o2r5krvz\\logs\\debug-internal.log</code>"
      ],
      "text/plain": [
       "<IPython.core.display.HTML object>"
      ]
     },
     "metadata": {},
     "output_type": "display_data"
    },
    {
     "data": {
      "text/html": [
       "<h3>Run summary:</h3><br/><style>\n",
       "    table.wandb td:nth-child(1) { padding: 0 10px; text-align: right }\n",
       "    </style><table class=\"wandb\">\n",
       "<tr><td>cv_loss</td><td>0.72953</td></tr><tr><td>_runtime</td><td>101</td></tr><tr><td>_timestamp</td><td>1631542625</td></tr><tr><td>_step</td><td>0</td></tr></table>"
      ],
      "text/plain": [
       "<IPython.core.display.HTML object>"
      ]
     },
     "metadata": {},
     "output_type": "display_data"
    },
    {
     "data": {
      "text/html": [
       "<h3>Run history:</h3><br/><style>\n",
       "    table.wandb td:nth-child(1) { padding: 0 10px; text-align: right }\n",
       "    </style><table class=\"wandb\">\n",
       "<tr><td>cv_loss</td><td>▁</td></tr><tr><td>_runtime</td><td>▁</td></tr><tr><td>_timestamp</td><td>▁</td></tr><tr><td>_step</td><td>▁</td></tr></table><br/>"
      ],
      "text/plain": [
       "<IPython.core.display.HTML object>"
      ]
     },
     "metadata": {},
     "output_type": "display_data"
    },
    {
     "data": {
      "text/html": [
       "Synced 5 W&B file(s), 0 media file(s), 0 artifact file(s) and 0 other file(s)"
      ],
      "text/plain": [
       "<IPython.core.display.HTML object>"
      ]
     },
     "metadata": {},
     "output_type": "display_data"
    },
    {
     "data": {
      "text/html": [
       "\n",
       "                    <br/>Synced <strong style=\"color:#cdcd00\">true-sweep-2</strong>: <a href=\"https://wandb.ai/kendrickaskedforgeotjeori/medici%20wandb%20test/runs/o2r5krvz\" target=\"_blank\">https://wandb.ai/kendrickaskedforgeotjeori/medici%20wandb%20test/runs/o2r5krvz</a><br/>\n",
       "                "
      ],
      "text/plain": [
       "<IPython.core.display.HTML object>"
      ]
     },
     "metadata": {},
     "output_type": "display_data"
    },
    {
     "name": "stderr",
     "output_type": "stream",
     "text": [
      "wandb: Agent Starting Run: d39rzmo3 with config:\n",
      "wandb: \tcolsample_bytree: 0.6980931489743001\n",
      "wandb: \tmax_depth: 12\n",
      "wandb: \tsubsample: 0.6759544444541197\n"
     ]
    },
    {
     "data": {
      "text/html": [
       "\n",
       "                Tracking run with wandb version 0.12.1<br/>\n",
       "                Syncing run <strong style=\"color:#cdcd00\">dazzling-sweep-3</strong> to <a href=\"https://wandb.ai\" target=\"_blank\">Weights & Biases</a> <a href=\"https://docs.wandb.com/integrations/jupyter.html\" target=\"_blank\">(Documentation)</a>.<br/>\n",
       "                Project page: <a href=\"https://wandb.ai/kendrickaskedforgeotjeori/medici%20wandb%20test\" target=\"_blank\">https://wandb.ai/kendrickaskedforgeotjeori/medici%20wandb%20test</a><br/>\n",
       "                Sweep page: <a href=\"https://wandb.ai/kendrickaskedforgeotjeori/medici%20wandb%20test/sweeps/y129mdb1\" target=\"_blank\">https://wandb.ai/kendrickaskedforgeotjeori/medici%20wandb%20test/sweeps/y129mdb1</a><br/>\n",
       "Run page: <a href=\"https://wandb.ai/kendrickaskedforgeotjeori/medici%20wandb%20test/runs/d39rzmo3\" target=\"_blank\">https://wandb.ai/kendrickaskedforgeotjeori/medici%20wandb%20test/runs/d39rzmo3</a><br/>\n",
       "                Run data is saved locally in <code>C:\\Python\\Untitled Folder\\wandb\\run-20210913_231713-d39rzmo3</code><br/><br/>\n",
       "            "
      ],
      "text/plain": [
       "<IPython.core.display.HTML object>"
      ]
     },
     "metadata": {},
     "output_type": "display_data"
    },
    {
     "name": "stdout",
     "output_type": "stream",
     "text": [
      "[0]\tvalidation_0-mlogloss:0.95604\tvalidation_1-mlogloss:0.97273\n",
      "[100]\tvalidation_0-mlogloss:0.17470\tvalidation_1-mlogloss:0.79175\n",
      "[138]\tvalidation_0-mlogloss:0.12456\tvalidation_1-mlogloss:0.85357\n",
      "0 Fold, train logloss : 0.37874, validation logloss : 0.7154\n",
      "[0]\tvalidation_0-mlogloss:0.95726\tvalidation_1-mlogloss:0.97706\n",
      "[100]\tvalidation_0-mlogloss:0.16687\tvalidation_1-mlogloss:0.83387\n",
      "[127]\tvalidation_0-mlogloss:0.13192\tvalidation_1-mlogloss:0.87740\n",
      "1 Fold, train logloss : 0.44554, validation logloss : 0.7350\n",
      "[0]\tvalidation_0-mlogloss:0.98601\tvalidation_1-mlogloss:1.00037\n",
      "[100]\tvalidation_0-mlogloss:0.16953\tvalidation_1-mlogloss:0.82736\n",
      "[133]\tvalidation_0-mlogloss:0.12520\tvalidation_1-mlogloss:0.88445\n",
      "2 Fold, train logloss : 0.40714, validation logloss : 0.7314\n",
      "[0]\tvalidation_0-mlogloss:0.98141\tvalidation_1-mlogloss:0.99703\n",
      "[100]\tvalidation_0-mlogloss:0.16933\tvalidation_1-mlogloss:0.82416\n",
      "[118]\tvalidation_0-mlogloss:0.14121\tvalidation_1-mlogloss:0.85583\n",
      "3 Fold, train logloss : 0.51704, validation logloss : 0.7299\n",
      "[0]\tvalidation_0-mlogloss:0.98471\tvalidation_1-mlogloss:0.99828\n",
      "[100]\tvalidation_0-mlogloss:0.16828\tvalidation_1-mlogloss:0.82843\n",
      "[127]\tvalidation_0-mlogloss:0.13045\tvalidation_1-mlogloss:0.87960\n",
      "4 Fold, train logloss : 0.43954, validation logloss : 0.7293\n"
     ]
    },
    {
     "data": {
      "text/html": [
       "<br/>Waiting for W&B process to finish, PID 11732<br/>Program ended successfully."
      ],
      "text/plain": [
       "<IPython.core.display.HTML object>"
      ]
     },
     "metadata": {},
     "output_type": "display_data"
    },
    {
     "data": {
      "application/vnd.jupyter.widget-view+json": {
       "model_id": "",
       "version_major": 2,
       "version_minor": 0
      },
      "text/plain": [
       "VBox(children=(Label(value=' 0.00MB of 0.00MB uploaded (0.00MB deduped)\\r'), FloatProgress(value=1.0, max=1.0)…"
      ]
     },
     "metadata": {},
     "output_type": "display_data"
    },
    {
     "data": {
      "text/html": [
       "Find user logs for this run at: <code>C:\\Python\\Untitled Folder\\wandb\\run-20210913_231713-d39rzmo3\\logs\\debug.log</code>"
      ],
      "text/plain": [
       "<IPython.core.display.HTML object>"
      ]
     },
     "metadata": {},
     "output_type": "display_data"
    },
    {
     "data": {
      "text/html": [
       "Find internal logs for this run at: <code>C:\\Python\\Untitled Folder\\wandb\\run-20210913_231713-d39rzmo3\\logs\\debug-internal.log</code>"
      ],
      "text/plain": [
       "<IPython.core.display.HTML object>"
      ]
     },
     "metadata": {},
     "output_type": "display_data"
    },
    {
     "data": {
      "text/html": [
       "<h3>Run summary:</h3><br/><style>\n",
       "    table.wandb td:nth-child(1) { padding: 0 10px; text-align: right }\n",
       "    </style><table class=\"wandb\">\n",
       "<tr><td>cv_loss</td><td>0.72819</td></tr><tr><td>_runtime</td><td>128</td></tr><tr><td>_timestamp</td><td>1631542761</td></tr><tr><td>_step</td><td>0</td></tr></table>"
      ],
      "text/plain": [
       "<IPython.core.display.HTML object>"
      ]
     },
     "metadata": {},
     "output_type": "display_data"
    },
    {
     "data": {
      "text/html": [
       "<h3>Run history:</h3><br/><style>\n",
       "    table.wandb td:nth-child(1) { padding: 0 10px; text-align: right }\n",
       "    </style><table class=\"wandb\">\n",
       "<tr><td>cv_loss</td><td>▁</td></tr><tr><td>_runtime</td><td>▁</td></tr><tr><td>_timestamp</td><td>▁</td></tr><tr><td>_step</td><td>▁</td></tr></table><br/>"
      ],
      "text/plain": [
       "<IPython.core.display.HTML object>"
      ]
     },
     "metadata": {},
     "output_type": "display_data"
    },
    {
     "data": {
      "text/html": [
       "Synced 5 W&B file(s), 0 media file(s), 0 artifact file(s) and 0 other file(s)"
      ],
      "text/plain": [
       "<IPython.core.display.HTML object>"
      ]
     },
     "metadata": {},
     "output_type": "display_data"
    },
    {
     "data": {
      "text/html": [
       "\n",
       "                    <br/>Synced <strong style=\"color:#cdcd00\">dazzling-sweep-3</strong>: <a href=\"https://wandb.ai/kendrickaskedforgeotjeori/medici%20wandb%20test/runs/d39rzmo3\" target=\"_blank\">https://wandb.ai/kendrickaskedforgeotjeori/medici%20wandb%20test/runs/d39rzmo3</a><br/>\n",
       "                "
      ],
      "text/plain": [
       "<IPython.core.display.HTML object>"
      ]
     },
     "metadata": {},
     "output_type": "display_data"
    },
    {
     "name": "stderr",
     "output_type": "stream",
     "text": [
      "wandb: Agent Starting Run: tu2qg18y with config:\n",
      "wandb: \tcolsample_bytree: 0.7712035021300248\n",
      "wandb: \tmax_depth: 15\n",
      "wandb: \tsubsample: 0.7441825310023784\n"
     ]
    },
    {
     "data": {
      "text/html": [
       "\n",
       "                Tracking run with wandb version 0.12.1<br/>\n",
       "                Syncing run <strong style=\"color:#cdcd00\">restful-sweep-4</strong> to <a href=\"https://wandb.ai\" target=\"_blank\">Weights & Biases</a> <a href=\"https://docs.wandb.com/integrations/jupyter.html\" target=\"_blank\">(Documentation)</a>.<br/>\n",
       "                Project page: <a href=\"https://wandb.ai/kendrickaskedforgeotjeori/medici%20wandb%20test\" target=\"_blank\">https://wandb.ai/kendrickaskedforgeotjeori/medici%20wandb%20test</a><br/>\n",
       "                Sweep page: <a href=\"https://wandb.ai/kendrickaskedforgeotjeori/medici%20wandb%20test/sweeps/y129mdb1\" target=\"_blank\">https://wandb.ai/kendrickaskedforgeotjeori/medici%20wandb%20test/sweeps/y129mdb1</a><br/>\n",
       "Run page: <a href=\"https://wandb.ai/kendrickaskedforgeotjeori/medici%20wandb%20test/runs/tu2qg18y\" target=\"_blank\">https://wandb.ai/kendrickaskedforgeotjeori/medici%20wandb%20test/runs/tu2qg18y</a><br/>\n",
       "                Run data is saved locally in <code>C:\\Python\\Untitled Folder\\wandb\\run-20210913_231927-tu2qg18y</code><br/><br/>\n",
       "            "
      ],
      "text/plain": [
       "<IPython.core.display.HTML object>"
      ]
     },
     "metadata": {},
     "output_type": "display_data"
    },
    {
     "name": "stdout",
     "output_type": "stream",
     "text": [
      "[0]\tvalidation_0-mlogloss:0.93851\tvalidation_1-mlogloss:0.96803\n",
      "[100]\tvalidation_0-mlogloss:0.09627\tvalidation_1-mlogloss:0.87782\n",
      "[119]\tvalidation_0-mlogloss:0.08203\tvalidation_1-mlogloss:0.91798\n",
      "0 Fold, train logloss : 0.39474, validation logloss : 0.7171\n",
      "[0]\tvalidation_0-mlogloss:0.94116\tvalidation_1-mlogloss:0.97124\n",
      "[100]\tvalidation_0-mlogloss:0.09162\tvalidation_1-mlogloss:0.93527\n",
      "[115]\tvalidation_0-mlogloss:0.08134\tvalidation_1-mlogloss:0.96899\n",
      "1 Fold, train logloss : 0.42494, validation logloss : 0.7374\n",
      "[0]\tvalidation_0-mlogloss:0.96676\tvalidation_1-mlogloss:0.99120\n",
      "[100]\tvalidation_0-mlogloss:0.09387\tvalidation_1-mlogloss:0.92366\n",
      "[119]\tvalidation_0-mlogloss:0.08059\tvalidation_1-mlogloss:0.96625\n",
      "2 Fold, train logloss : 0.39124, validation logloss : 0.7296\n",
      "[0]\tvalidation_0-mlogloss:0.95766\tvalidation_1-mlogloss:0.98686\n",
      "[100]\tvalidation_0-mlogloss:0.09331\tvalidation_1-mlogloss:0.92194\n",
      "[117]\tvalidation_0-mlogloss:0.08044\tvalidation_1-mlogloss:0.96112\n",
      "3 Fold, train logloss : 0.39474, validation logloss : 0.7250\n",
      "[0]\tvalidation_0-mlogloss:0.96987\tvalidation_1-mlogloss:0.99285\n",
      "[100]\tvalidation_0-mlogloss:0.09180\tvalidation_1-mlogloss:0.93654\n",
      "[115]\tvalidation_0-mlogloss:0.08045\tvalidation_1-mlogloss:0.97309\n",
      "4 Fold, train logloss : 0.42684, validation logloss : 0.7247\n"
     ]
    },
    {
     "data": {
      "text/html": [
       "<br/>Waiting for W&B process to finish, PID 25104<br/>Program ended successfully."
      ],
      "text/plain": [
       "<IPython.core.display.HTML object>"
      ]
     },
     "metadata": {},
     "output_type": "display_data"
    },
    {
     "data": {
      "application/vnd.jupyter.widget-view+json": {
       "model_id": "",
       "version_major": 2,
       "version_minor": 0
      },
      "text/plain": [
       "VBox(children=(Label(value=' 0.00MB of 0.00MB uploaded (0.00MB deduped)\\r'), FloatProgress(value=1.0, max=1.0)…"
      ]
     },
     "metadata": {},
     "output_type": "display_data"
    },
    {
     "data": {
      "text/html": [
       "Find user logs for this run at: <code>C:\\Python\\Untitled Folder\\wandb\\run-20210913_231927-tu2qg18y\\logs\\debug.log</code>"
      ],
      "text/plain": [
       "<IPython.core.display.HTML object>"
      ]
     },
     "metadata": {},
     "output_type": "display_data"
    },
    {
     "data": {
      "text/html": [
       "Find internal logs for this run at: <code>C:\\Python\\Untitled Folder\\wandb\\run-20210913_231927-tu2qg18y\\logs\\debug-internal.log</code>"
      ],
      "text/plain": [
       "<IPython.core.display.HTML object>"
      ]
     },
     "metadata": {},
     "output_type": "display_data"
    },
    {
     "data": {
      "text/html": [
       "<h3>Run summary:</h3><br/><style>\n",
       "    table.wandb td:nth-child(1) { padding: 0 10px; text-align: right }\n",
       "    </style><table class=\"wandb\">\n",
       "<tr><td>cv_loss</td><td>0.72675</td></tr><tr><td>_runtime</td><td>150</td></tr><tr><td>_timestamp</td><td>1631542917</td></tr><tr><td>_step</td><td>0</td></tr></table>"
      ],
      "text/plain": [
       "<IPython.core.display.HTML object>"
      ]
     },
     "metadata": {},
     "output_type": "display_data"
    },
    {
     "data": {
      "text/html": [
       "<h3>Run history:</h3><br/><style>\n",
       "    table.wandb td:nth-child(1) { padding: 0 10px; text-align: right }\n",
       "    </style><table class=\"wandb\">\n",
       "<tr><td>cv_loss</td><td>▁</td></tr><tr><td>_runtime</td><td>▁</td></tr><tr><td>_timestamp</td><td>▁</td></tr><tr><td>_step</td><td>▁</td></tr></table><br/>"
      ],
      "text/plain": [
       "<IPython.core.display.HTML object>"
      ]
     },
     "metadata": {},
     "output_type": "display_data"
    },
    {
     "data": {
      "text/html": [
       "Synced 5 W&B file(s), 0 media file(s), 0 artifact file(s) and 0 other file(s)"
      ],
      "text/plain": [
       "<IPython.core.display.HTML object>"
      ]
     },
     "metadata": {},
     "output_type": "display_data"
    },
    {
     "data": {
      "text/html": [
       "\n",
       "                    <br/>Synced <strong style=\"color:#cdcd00\">restful-sweep-4</strong>: <a href=\"https://wandb.ai/kendrickaskedforgeotjeori/medici%20wandb%20test/runs/tu2qg18y\" target=\"_blank\">https://wandb.ai/kendrickaskedforgeotjeori/medici%20wandb%20test/runs/tu2qg18y</a><br/>\n",
       "                "
      ],
      "text/plain": [
       "<IPython.core.display.HTML object>"
      ]
     },
     "metadata": {},
     "output_type": "display_data"
    },
    {
     "name": "stderr",
     "output_type": "stream",
     "text": [
      "wandb: Agent Starting Run: 7iz934q9 with config:\n",
      "wandb: \tcolsample_bytree: 0.909678292874907\n",
      "wandb: \tmax_depth: 15\n",
      "wandb: \tsubsample: 0.6387906182499608\n"
     ]
    },
    {
     "data": {
      "text/html": [
       "\n",
       "                Tracking run with wandb version 0.12.1<br/>\n",
       "                Syncing run <strong style=\"color:#cdcd00\">icy-sweep-5</strong> to <a href=\"https://wandb.ai\" target=\"_blank\">Weights & Biases</a> <a href=\"https://docs.wandb.com/integrations/jupyter.html\" target=\"_blank\">(Documentation)</a>.<br/>\n",
       "                Project page: <a href=\"https://wandb.ai/kendrickaskedforgeotjeori/medici%20wandb%20test\" target=\"_blank\">https://wandb.ai/kendrickaskedforgeotjeori/medici%20wandb%20test</a><br/>\n",
       "                Sweep page: <a href=\"https://wandb.ai/kendrickaskedforgeotjeori/medici%20wandb%20test/sweeps/y129mdb1\" target=\"_blank\">https://wandb.ai/kendrickaskedforgeotjeori/medici%20wandb%20test/sweeps/y129mdb1</a><br/>\n",
       "Run page: <a href=\"https://wandb.ai/kendrickaskedforgeotjeori/medici%20wandb%20test/runs/7iz934q9\" target=\"_blank\">https://wandb.ai/kendrickaskedforgeotjeori/medici%20wandb%20test/runs/7iz934q9</a><br/>\n",
       "                Run data is saved locally in <code>C:\\Python\\Untitled Folder\\wandb\\run-20210913_232202-7iz934q9</code><br/><br/>\n",
       "            "
      ],
      "text/plain": [
       "<IPython.core.display.HTML object>"
      ]
     },
     "metadata": {},
     "output_type": "display_data"
    },
    {
     "name": "stdout",
     "output_type": "stream",
     "text": [
      "[0]\tvalidation_0-mlogloss:0.94245\tvalidation_1-mlogloss:0.96872\n",
      "[100]\tvalidation_0-mlogloss:0.09132\tvalidation_1-mlogloss:0.92934\n",
      "[118]\tvalidation_0-mlogloss:0.07986\tvalidation_1-mlogloss:0.96632\n",
      "0 Fold, train logloss : 0.40734, validation logloss : 0.7252\n",
      "[0]\tvalidation_0-mlogloss:0.94029\tvalidation_1-mlogloss:0.97132\n",
      "[100]\tvalidation_0-mlogloss:0.09449\tvalidation_1-mlogloss:0.96153\n",
      "[115]\tvalidation_0-mlogloss:0.08394\tvalidation_1-mlogloss:0.99616\n",
      "1 Fold, train logloss : 0.43644, validation logloss : 0.7394\n",
      "[0]\tvalidation_0-mlogloss:0.96266\tvalidation_1-mlogloss:0.99130\n",
      "[100]\tvalidation_0-mlogloss:0.09438\tvalidation_1-mlogloss:0.95826\n",
      "[116]\tvalidation_0-mlogloss:0.08304\tvalidation_1-mlogloss:0.99514\n",
      "2 Fold, train logloss : 0.43464, validation logloss : 0.7422\n",
      "[0]\tvalidation_0-mlogloss:0.96647\tvalidation_1-mlogloss:0.99432\n",
      "[100]\tvalidation_0-mlogloss:0.09265\tvalidation_1-mlogloss:0.95379\n",
      "[117]\tvalidation_0-mlogloss:0.08073\tvalidation_1-mlogloss:0.99649\n",
      "3 Fold, train logloss : 0.40034, validation logloss : 0.7374\n",
      "[0]\tvalidation_0-mlogloss:0.96805\tvalidation_1-mlogloss:0.99209\n",
      "[100]\tvalidation_0-mlogloss:0.09454\tvalidation_1-mlogloss:0.96116\n",
      "[116]\tvalidation_0-mlogloss:0.08218\tvalidation_1-mlogloss:1.00096\n",
      "4 Fold, train logloss : 0.42934, validation logloss : 0.7336\n"
     ]
    },
    {
     "data": {
      "text/html": [
       "<br/>Waiting for W&B process to finish, PID 29368<br/>Program ended successfully."
      ],
      "text/plain": [
       "<IPython.core.display.HTML object>"
      ]
     },
     "metadata": {},
     "output_type": "display_data"
    },
    {
     "data": {
      "application/vnd.jupyter.widget-view+json": {
       "model_id": "",
       "version_major": 2,
       "version_minor": 0
      },
      "text/plain": [
       "VBox(children=(Label(value=' 0.00MB of 0.00MB uploaded (0.00MB deduped)\\r'), FloatProgress(value=1.0, max=1.0)…"
      ]
     },
     "metadata": {},
     "output_type": "display_data"
    },
    {
     "data": {
      "text/html": [
       "Find user logs for this run at: <code>C:\\Python\\Untitled Folder\\wandb\\run-20210913_232202-7iz934q9\\logs\\debug.log</code>"
      ],
      "text/plain": [
       "<IPython.core.display.HTML object>"
      ]
     },
     "metadata": {},
     "output_type": "display_data"
    },
    {
     "data": {
      "text/html": [
       "Find internal logs for this run at: <code>C:\\Python\\Untitled Folder\\wandb\\run-20210913_232202-7iz934q9\\logs\\debug-internal.log</code>"
      ],
      "text/plain": [
       "<IPython.core.display.HTML object>"
      ]
     },
     "metadata": {},
     "output_type": "display_data"
    },
    {
     "data": {
      "text/html": [
       "<h3>Run summary:</h3><br/><style>\n",
       "    table.wandb td:nth-child(1) { padding: 0 10px; text-align: right }\n",
       "    </style><table class=\"wandb\">\n",
       "<tr><td>cv_loss</td><td>0.73555</td></tr><tr><td>_runtime</td><td>140</td></tr><tr><td>_timestamp</td><td>1631543063</td></tr><tr><td>_step</td><td>0</td></tr></table>"
      ],
      "text/plain": [
       "<IPython.core.display.HTML object>"
      ]
     },
     "metadata": {},
     "output_type": "display_data"
    },
    {
     "data": {
      "text/html": [
       "<h3>Run history:</h3><br/><style>\n",
       "    table.wandb td:nth-child(1) { padding: 0 10px; text-align: right }\n",
       "    </style><table class=\"wandb\">\n",
       "<tr><td>cv_loss</td><td>▁</td></tr><tr><td>_runtime</td><td>▁</td></tr><tr><td>_timestamp</td><td>▁</td></tr><tr><td>_step</td><td>▁</td></tr></table><br/>"
      ],
      "text/plain": [
       "<IPython.core.display.HTML object>"
      ]
     },
     "metadata": {},
     "output_type": "display_data"
    },
    {
     "data": {
      "text/html": [
       "Synced 5 W&B file(s), 0 media file(s), 0 artifact file(s) and 0 other file(s)"
      ],
      "text/plain": [
       "<IPython.core.display.HTML object>"
      ]
     },
     "metadata": {},
     "output_type": "display_data"
    },
    {
     "data": {
      "text/html": [
       "\n",
       "                    <br/>Synced <strong style=\"color:#cdcd00\">icy-sweep-5</strong>: <a href=\"https://wandb.ai/kendrickaskedforgeotjeori/medici%20wandb%20test/runs/7iz934q9\" target=\"_blank\">https://wandb.ai/kendrickaskedforgeotjeori/medici%20wandb%20test/runs/7iz934q9</a><br/>\n",
       "                "
      ],
      "text/plain": [
       "<IPython.core.display.HTML object>"
      ]
     },
     "metadata": {},
     "output_type": "display_data"
    }
   ],
   "source": [
    "from sklearn.model_selection import StratifiedKFold\n",
    "from sklearn.metrics import log_loss\n",
    "from xgboost import XGBClassifier\n",
    "\n",
    "def train():\n",
    "    with wandb.init() as run:\n",
    "        params = wandb.config\n",
    "        \n",
    "        val_scores = []\n",
    "        n_splits = 5\n",
    "\n",
    "        skf = StratifiedKFold(n_splits=n_splits, shuffle=True, random_state=42)\n",
    "\n",
    "        for i, (trn_idx, val_idx) in enumerate(skf.split(data, label)):\n",
    "            x_train, y_train = data.iloc[trn_idx, :], label.iloc[trn_idx,]\n",
    "            x_valid, y_valid = data.iloc[val_idx, :], label.iloc[val_idx,]\n",
    "\n",
    "            # 전처리\n",
    "            x_train, x_valid, x_test = preprocess(x_train, x_valid, test)\n",
    "\n",
    "            # 모델 정의\n",
    "            model = XGBClassifier(n_estimators=1000,\n",
    "                                  max_depth=params['max_depth'],\n",
    "                                  subsample=params['subsample'],\n",
    "                                  colsample_bytree=params['colsample_bytree'],\n",
    "#                                   tree_method='gpu_hist',\n",
    "                                  n_jobs=n_cpus-1)\n",
    "\n",
    "            # 모델 학습\n",
    "            model.fit(x_train, y_train, \n",
    "                      eval_metric='mlogloss', \n",
    "                      eval_set=[[x_train, y_train], [x_valid, y_valid]],\n",
    "                      early_stopping_rounds=100,\n",
    "                      verbose=100)\n",
    "\n",
    "            # 훈련, 검증 데이터 log_loss 확인\n",
    "            trn_logloss = log_loss(y_train, model.predict_proba(x_train))\n",
    "            val_logloss = log_loss(y_valid, model.predict_proba(x_valid))\n",
    "            print('{} Fold, train logloss : {:.4f}4, validation logloss : {:.4f}'.format(i, trn_logloss, val_logloss))\n",
    "\n",
    "            val_scores.append(val_logloss)\n",
    "            \n",
    "        metrics = {\"cv_loss\": np.mean(val_scores)}\n",
    "        wandb.log(metrics)\n",
    "count = 5\n",
    "wandb.agent(sweep_id, function=train, count=count)"
   ]
  },
  {
   "cell_type": "code",
   "execution_count": null,
   "metadata": {},
   "outputs": [],
   "source": [
    "submit.to_csv('oof_first_submit.csv', index=False)"
   ]
  },
  {
   "cell_type": "code",
   "execution_count": null,
   "metadata": {},
   "outputs": [],
   "source": []
  }
 ],
 "metadata": {
  "accelerator": "GPU",
  "colab": {
   "collapsed_sections": [],
   "name": "Lab_04) Model_Tuning_WanDB.ipynb",
   "provenance": []
  },
  "kernelspec": {
   "display_name": "Python 3",
   "language": "python",
   "name": "python3"
  },
  "language_info": {
   "codemirror_mode": {
    "name": "ipython",
    "version": 3
   },
   "file_extension": ".py",
   "mimetype": "text/x-python",
   "name": "python",
   "nbconvert_exporter": "python",
   "pygments_lexer": "ipython3",
   "version": "3.8.8"
  },
  "widgets": {
   "application/vnd.jupyter.widget-state+json": {
    "101ba1c37df94d85a151bcf59b04fe1d": {
     "model_module": "@jupyter-widgets/controls",
     "model_name": "ProgressStyleModel",
     "state": {
      "_model_module": "@jupyter-widgets/controls",
      "_model_module_version": "1.5.0",
      "_model_name": "ProgressStyleModel",
      "_view_count": null,
      "_view_module": "@jupyter-widgets/base",
      "_view_module_version": "1.2.0",
      "_view_name": "StyleView",
      "bar_color": null,
      "description_width": ""
     }
    },
    "1e9f4a507eab425a91133ac02fa6aabb": {
     "model_module": "@jupyter-widgets/controls",
     "model_name": "FloatProgressModel",
     "state": {
      "_dom_classes": [],
      "_model_module": "@jupyter-widgets/controls",
      "_model_module_version": "1.5.0",
      "_model_name": "FloatProgressModel",
      "_view_count": null,
      "_view_module": "@jupyter-widgets/controls",
      "_view_module_version": "1.5.0",
      "_view_name": "ProgressView",
      "bar_style": "",
      "description": "",
      "description_tooltip": null,
      "layout": "IPY_MODEL_e56c156d673345adbb0c0e5eb1be96fe",
      "max": 1,
      "min": 0,
      "orientation": "horizontal",
      "style": "IPY_MODEL_d5cbf0c2a07c4d269d529f931d818ca1",
      "value": 1
     }
    },
    "23fb7df07b3d43da9a9ad893190af720": {
     "model_module": "@jupyter-widgets/base",
     "model_name": "LayoutModel",
     "state": {
      "_model_module": "@jupyter-widgets/base",
      "_model_module_version": "1.2.0",
      "_model_name": "LayoutModel",
      "_view_count": null,
      "_view_module": "@jupyter-widgets/base",
      "_view_module_version": "1.2.0",
      "_view_name": "LayoutView",
      "align_content": null,
      "align_items": null,
      "align_self": null,
      "border": null,
      "bottom": null,
      "display": null,
      "flex": null,
      "flex_flow": null,
      "grid_area": null,
      "grid_auto_columns": null,
      "grid_auto_flow": null,
      "grid_auto_rows": null,
      "grid_column": null,
      "grid_gap": null,
      "grid_row": null,
      "grid_template_areas": null,
      "grid_template_columns": null,
      "grid_template_rows": null,
      "height": null,
      "justify_content": null,
      "justify_items": null,
      "left": null,
      "margin": null,
      "max_height": null,
      "max_width": null,
      "min_height": null,
      "min_width": null,
      "object_fit": null,
      "object_position": null,
      "order": null,
      "overflow": null,
      "overflow_x": null,
      "overflow_y": null,
      "padding": null,
      "right": null,
      "top": null,
      "visibility": null,
      "width": null
     }
    },
    "3061e5a13a89437aa0d36a94e0ab54cc": {
     "model_module": "@jupyter-widgets/controls",
     "model_name": "FloatProgressModel",
     "state": {
      "_dom_classes": [],
      "_model_module": "@jupyter-widgets/controls",
      "_model_module_version": "1.5.0",
      "_model_name": "FloatProgressModel",
      "_view_count": null,
      "_view_module": "@jupyter-widgets/controls",
      "_view_module_version": "1.5.0",
      "_view_name": "ProgressView",
      "bar_style": "",
      "description": "",
      "description_tooltip": null,
      "layout": "IPY_MODEL_ccc7a753e3e54e2180485cd96b6d6098",
      "max": 1,
      "min": 0,
      "orientation": "horizontal",
      "style": "IPY_MODEL_101ba1c37df94d85a151bcf59b04fe1d",
      "value": 1
     }
    },
    "5a316f4fae634b0ab4c39fcaf5f99cb6": {
     "model_module": "@jupyter-widgets/controls",
     "model_name": "DescriptionStyleModel",
     "state": {
      "_model_module": "@jupyter-widgets/controls",
      "_model_module_version": "1.5.0",
      "_model_name": "DescriptionStyleModel",
      "_view_count": null,
      "_view_module": "@jupyter-widgets/base",
      "_view_module_version": "1.2.0",
      "_view_name": "StyleView",
      "description_width": ""
     }
    },
    "682e01be87c849a68ca7cb4ff65be39c": {
     "model_module": "@jupyter-widgets/controls",
     "model_name": "DescriptionStyleModel",
     "state": {
      "_model_module": "@jupyter-widgets/controls",
      "_model_module_version": "1.5.0",
      "_model_name": "DescriptionStyleModel",
      "_view_count": null,
      "_view_module": "@jupyter-widgets/base",
      "_view_module_version": "1.2.0",
      "_view_name": "StyleView",
      "description_width": ""
     }
    },
    "6f92b779239646fba1fdd0ff6973059a": {
     "model_module": "@jupyter-widgets/controls",
     "model_name": "VBoxModel",
     "state": {
      "_dom_classes": [],
      "_model_module": "@jupyter-widgets/controls",
      "_model_module_version": "1.5.0",
      "_model_name": "VBoxModel",
      "_view_count": null,
      "_view_module": "@jupyter-widgets/controls",
      "_view_module_version": "1.5.0",
      "_view_name": "VBoxView",
      "box_style": "",
      "children": [
       "IPY_MODEL_dc9c7397512c4d10975752153eddff83",
       "IPY_MODEL_3061e5a13a89437aa0d36a94e0ab54cc"
      ],
      "layout": "IPY_MODEL_23fb7df07b3d43da9a9ad893190af720"
     }
    },
    "a5a900b3cd0944f29173d5a2ba286e20": {
     "model_module": "@jupyter-widgets/controls",
     "model_name": "LabelModel",
     "state": {
      "_dom_classes": [],
      "_model_module": "@jupyter-widgets/controls",
      "_model_module_version": "1.5.0",
      "_model_name": "LabelModel",
      "_view_count": null,
      "_view_module": "@jupyter-widgets/controls",
      "_view_module_version": "1.5.0",
      "_view_name": "LabelView",
      "description": "",
      "description_tooltip": null,
      "layout": "IPY_MODEL_e236e5d4f1a44464b76d90b27e37a621",
      "placeholder": "​",
      "style": "IPY_MODEL_682e01be87c849a68ca7cb4ff65be39c",
      "value": " 0.01MB of 0.01MB uploaded (0.00MB deduped)\r"
     }
    },
    "bf9bafdd29df41dfb9b2f00d130cbd0d": {
     "model_module": "@jupyter-widgets/base",
     "model_name": "LayoutModel",
     "state": {
      "_model_module": "@jupyter-widgets/base",
      "_model_module_version": "1.2.0",
      "_model_name": "LayoutModel",
      "_view_count": null,
      "_view_module": "@jupyter-widgets/base",
      "_view_module_version": "1.2.0",
      "_view_name": "LayoutView",
      "align_content": null,
      "align_items": null,
      "align_self": null,
      "border": null,
      "bottom": null,
      "display": null,
      "flex": null,
      "flex_flow": null,
      "grid_area": null,
      "grid_auto_columns": null,
      "grid_auto_flow": null,
      "grid_auto_rows": null,
      "grid_column": null,
      "grid_gap": null,
      "grid_row": null,
      "grid_template_areas": null,
      "grid_template_columns": null,
      "grid_template_rows": null,
      "height": null,
      "justify_content": null,
      "justify_items": null,
      "left": null,
      "margin": null,
      "max_height": null,
      "max_width": null,
      "min_height": null,
      "min_width": null,
      "object_fit": null,
      "object_position": null,
      "order": null,
      "overflow": null,
      "overflow_x": null,
      "overflow_y": null,
      "padding": null,
      "right": null,
      "top": null,
      "visibility": null,
      "width": null
     }
    },
    "ccc7a753e3e54e2180485cd96b6d6098": {
     "model_module": "@jupyter-widgets/base",
     "model_name": "LayoutModel",
     "state": {
      "_model_module": "@jupyter-widgets/base",
      "_model_module_version": "1.2.0",
      "_model_name": "LayoutModel",
      "_view_count": null,
      "_view_module": "@jupyter-widgets/base",
      "_view_module_version": "1.2.0",
      "_view_name": "LayoutView",
      "align_content": null,
      "align_items": null,
      "align_self": null,
      "border": null,
      "bottom": null,
      "display": null,
      "flex": null,
      "flex_flow": null,
      "grid_area": null,
      "grid_auto_columns": null,
      "grid_auto_flow": null,
      "grid_auto_rows": null,
      "grid_column": null,
      "grid_gap": null,
      "grid_row": null,
      "grid_template_areas": null,
      "grid_template_columns": null,
      "grid_template_rows": null,
      "height": null,
      "justify_content": null,
      "justify_items": null,
      "left": null,
      "margin": null,
      "max_height": null,
      "max_width": null,
      "min_height": null,
      "min_width": null,
      "object_fit": null,
      "object_position": null,
      "order": null,
      "overflow": null,
      "overflow_x": null,
      "overflow_y": null,
      "padding": null,
      "right": null,
      "top": null,
      "visibility": null,
      "width": null
     }
    },
    "ceee6e8b3b9e4a23844f482a3601bf0d": {
     "model_module": "@jupyter-widgets/base",
     "model_name": "LayoutModel",
     "state": {
      "_model_module": "@jupyter-widgets/base",
      "_model_module_version": "1.2.0",
      "_model_name": "LayoutModel",
      "_view_count": null,
      "_view_module": "@jupyter-widgets/base",
      "_view_module_version": "1.2.0",
      "_view_name": "LayoutView",
      "align_content": null,
      "align_items": null,
      "align_self": null,
      "border": null,
      "bottom": null,
      "display": null,
      "flex": null,
      "flex_flow": null,
      "grid_area": null,
      "grid_auto_columns": null,
      "grid_auto_flow": null,
      "grid_auto_rows": null,
      "grid_column": null,
      "grid_gap": null,
      "grid_row": null,
      "grid_template_areas": null,
      "grid_template_columns": null,
      "grid_template_rows": null,
      "height": null,
      "justify_content": null,
      "justify_items": null,
      "left": null,
      "margin": null,
      "max_height": null,
      "max_width": null,
      "min_height": null,
      "min_width": null,
      "object_fit": null,
      "object_position": null,
      "order": null,
      "overflow": null,
      "overflow_x": null,
      "overflow_y": null,
      "padding": null,
      "right": null,
      "top": null,
      "visibility": null,
      "width": null
     }
    },
    "d5cbf0c2a07c4d269d529f931d818ca1": {
     "model_module": "@jupyter-widgets/controls",
     "model_name": "ProgressStyleModel",
     "state": {
      "_model_module": "@jupyter-widgets/controls",
      "_model_module_version": "1.5.0",
      "_model_name": "ProgressStyleModel",
      "_view_count": null,
      "_view_module": "@jupyter-widgets/base",
      "_view_module_version": "1.2.0",
      "_view_name": "StyleView",
      "bar_color": null,
      "description_width": ""
     }
    },
    "d5d144d009e64b5eab0d7aea67effced": {
     "model_module": "@jupyter-widgets/controls",
     "model_name": "VBoxModel",
     "state": {
      "_dom_classes": [],
      "_model_module": "@jupyter-widgets/controls",
      "_model_module_version": "1.5.0",
      "_model_name": "VBoxModel",
      "_view_count": null,
      "_view_module": "@jupyter-widgets/controls",
      "_view_module_version": "1.5.0",
      "_view_name": "VBoxView",
      "box_style": "",
      "children": [
       "IPY_MODEL_a5a900b3cd0944f29173d5a2ba286e20",
       "IPY_MODEL_1e9f4a507eab425a91133ac02fa6aabb"
      ],
      "layout": "IPY_MODEL_bf9bafdd29df41dfb9b2f00d130cbd0d"
     }
    },
    "dc9c7397512c4d10975752153eddff83": {
     "model_module": "@jupyter-widgets/controls",
     "model_name": "LabelModel",
     "state": {
      "_dom_classes": [],
      "_model_module": "@jupyter-widgets/controls",
      "_model_module_version": "1.5.0",
      "_model_name": "LabelModel",
      "_view_count": null,
      "_view_module": "@jupyter-widgets/controls",
      "_view_module_version": "1.5.0",
      "_view_name": "LabelView",
      "description": "",
      "description_tooltip": null,
      "layout": "IPY_MODEL_ceee6e8b3b9e4a23844f482a3601bf0d",
      "placeholder": "​",
      "style": "IPY_MODEL_5a316f4fae634b0ab4c39fcaf5f99cb6",
      "value": " 0.01MB of 0.01MB uploaded (0.00MB deduped)\r"
     }
    },
    "e236e5d4f1a44464b76d90b27e37a621": {
     "model_module": "@jupyter-widgets/base",
     "model_name": "LayoutModel",
     "state": {
      "_model_module": "@jupyter-widgets/base",
      "_model_module_version": "1.2.0",
      "_model_name": "LayoutModel",
      "_view_count": null,
      "_view_module": "@jupyter-widgets/base",
      "_view_module_version": "1.2.0",
      "_view_name": "LayoutView",
      "align_content": null,
      "align_items": null,
      "align_self": null,
      "border": null,
      "bottom": null,
      "display": null,
      "flex": null,
      "flex_flow": null,
      "grid_area": null,
      "grid_auto_columns": null,
      "grid_auto_flow": null,
      "grid_auto_rows": null,
      "grid_column": null,
      "grid_gap": null,
      "grid_row": null,
      "grid_template_areas": null,
      "grid_template_columns": null,
      "grid_template_rows": null,
      "height": null,
      "justify_content": null,
      "justify_items": null,
      "left": null,
      "margin": null,
      "max_height": null,
      "max_width": null,
      "min_height": null,
      "min_width": null,
      "object_fit": null,
      "object_position": null,
      "order": null,
      "overflow": null,
      "overflow_x": null,
      "overflow_y": null,
      "padding": null,
      "right": null,
      "top": null,
      "visibility": null,
      "width": null
     }
    },
    "e56c156d673345adbb0c0e5eb1be96fe": {
     "model_module": "@jupyter-widgets/base",
     "model_name": "LayoutModel",
     "state": {
      "_model_module": "@jupyter-widgets/base",
      "_model_module_version": "1.2.0",
      "_model_name": "LayoutModel",
      "_view_count": null,
      "_view_module": "@jupyter-widgets/base",
      "_view_module_version": "1.2.0",
      "_view_name": "LayoutView",
      "align_content": null,
      "align_items": null,
      "align_self": null,
      "border": null,
      "bottom": null,
      "display": null,
      "flex": null,
      "flex_flow": null,
      "grid_area": null,
      "grid_auto_columns": null,
      "grid_auto_flow": null,
      "grid_auto_rows": null,
      "grid_column": null,
      "grid_gap": null,
      "grid_row": null,
      "grid_template_areas": null,
      "grid_template_columns": null,
      "grid_template_rows": null,
      "height": null,
      "justify_content": null,
      "justify_items": null,
      "left": null,
      "margin": null,
      "max_height": null,
      "max_width": null,
      "min_height": null,
      "min_width": null,
      "object_fit": null,
      "object_position": null,
      "order": null,
      "overflow": null,
      "overflow_x": null,
      "overflow_y": null,
      "padding": null,
      "right": null,
      "top": null,
      "visibility": null,
      "width": null
     }
    }
   }
  }
 },
 "nbformat": 4,
 "nbformat_minor": 1
}
