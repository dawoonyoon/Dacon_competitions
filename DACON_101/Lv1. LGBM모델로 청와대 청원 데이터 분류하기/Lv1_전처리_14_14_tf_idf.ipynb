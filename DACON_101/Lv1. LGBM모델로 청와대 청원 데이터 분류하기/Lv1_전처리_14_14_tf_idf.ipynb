{
  "nbformat": 4,
  "nbformat_minor": 0,
  "metadata": {
    "colab": {
      "name": "Lv1_전처리_14/14 tf-idf",
      "provenance": [],
      "collapsed_sections": [
        "YLKidTge4gsx"
      ]
    },
    "kernelspec": {
      "name": "python3",
      "display_name": "Python 3"
    },
    "language_info": {
      "name": "python"
    }
  },
  "cells": [
    {
      "cell_type": "markdown",
      "metadata": {
        "id": "FqodyLxg4RLu"
      },
      "source": [
        "## 데이터 다운로드\n",
        "--- \n",
        "아래 셀을 실행시켜 데이터를 colab에 불러옵니다.  \n",
        "셀 실행은 <br>Windows: `Ctrl` + `Enter`<br>\n",
        "Mac: `Shift` + `Enter` <br>\n",
        "를 이용해 실행 시킬 수 있습니다. "
      ]
    },
    {
      "cell_type": "code",
      "metadata": {
        "id": "KqmuZfEjVlM9",
        "outputId": "6a82569b-9bc7-49b0-9831-0794c69a49e0",
        "colab": {
          "base_uri": "https://localhost:8080/"
        }
      },
      "source": [
        "# 데이터 다운로드 링크로 데이터를 코랩에 불러옵니다.\n",
        "\n",
        "!wget 'https://bit.ly/3l6g8j3'\n",
        "\n",
        "import zipfile\n",
        "with zipfile.ZipFile('3l6g8j3', 'r') as existing_zip:\n",
        "    existing_zip.extractall('data')"
      ],
      "execution_count": 1,
      "outputs": [
        {
          "output_type": "stream",
          "name": "stdout",
          "text": [
            "--2022-02-03 12:35:05--  https://bit.ly/3l6g8j3\n",
            "Resolving bit.ly (bit.ly)... 67.199.248.10, 67.199.248.11\n",
            "Connecting to bit.ly (bit.ly)|67.199.248.10|:443... connected.\n",
            "HTTP request sent, awaiting response... 301 Moved Permanently\n",
            "Location: https://docs.google.com/uc?export=download&id=1n-cTWLp385P-DmmNuMAg6zJDw8MNAPwu [following]\n",
            "--2022-02-03 12:35:05--  https://docs.google.com/uc?export=download&id=1n-cTWLp385P-DmmNuMAg6zJDw8MNAPwu\n",
            "Resolving docs.google.com (docs.google.com)... 108.177.97.138, 108.177.97.101, 108.177.97.102, ...\n",
            "Connecting to docs.google.com (docs.google.com)|108.177.97.138|:443... connected.\n",
            "HTTP request sent, awaiting response... 302 Moved Temporarily\n",
            "Location: https://doc-0g-10-docs.googleusercontent.com/docs/securesc/ha0ro937gcuc7l7deffksulhg5h7mbp1/9u9g4pt3cnn2t9mlospg27vvrav1u7ua/1643891700000/17946651057176172524/*/1n-cTWLp385P-DmmNuMAg6zJDw8MNAPwu?e=download [following]\n",
            "Warning: wildcards not supported in HTTP.\n",
            "--2022-02-03 12:35:08--  https://doc-0g-10-docs.googleusercontent.com/docs/securesc/ha0ro937gcuc7l7deffksulhg5h7mbp1/9u9g4pt3cnn2t9mlospg27vvrav1u7ua/1643891700000/17946651057176172524/*/1n-cTWLp385P-DmmNuMAg6zJDw8MNAPwu?e=download\n",
            "Resolving doc-0g-10-docs.googleusercontent.com (doc-0g-10-docs.googleusercontent.com)... 142.251.8.132, 2404:6800:4008:c15::84\n",
            "Connecting to doc-0g-10-docs.googleusercontent.com (doc-0g-10-docs.googleusercontent.com)|142.251.8.132|:443... connected.\n",
            "HTTP request sent, awaiting response... 200 OK\n",
            "Length: 22312699 (21M) [application/x-zip-compressed]\n",
            "Saving to: ‘3l6g8j3’\n",
            "\n",
            "3l6g8j3             100%[===================>]  21.28M   131MB/s    in 0.2s    \n",
            "\n",
            "2022-02-03 12:35:09 (131 MB/s) - ‘3l6g8j3’ saved [22312699/22312699]\n",
            "\n"
          ]
        }
      ]
    },
    {
      "cell_type": "code",
      "metadata": {
        "id": "XB0LAo3MVpmo"
      },
      "source": [
        "import pandas as pd\n",
        "\n",
        "train = pd.read_csv('data/train.csv',usecols = ['category','data'])\n",
        "test = pd.read_csv('data/test.csv',usecols = ['data'])"
      ],
      "execution_count": 2,
      "outputs": []
    },
    {
      "cell_type": "code",
      "metadata": {
        "id": "VFATbYM8YqNW"
      },
      "source": [
        "# 결측치처리\n",
        "# 결측치가 존재하면 TF-IDF 적용 x\n",
        "train.fillna(' ',inplace= True)"
      ],
      "execution_count": 3,
      "outputs": []
    },
    {
      "cell_type": "markdown",
      "metadata": {
        "id": "J1Is2vFL4cxY"
      },
      "source": [
        "## 실습\n",
        "---\n",
        "`TfidfVectorizer`를 이용하여 data 컬럼을 피처 벡터화 해보세요 ! "
      ]
    },
    {
      "cell_type": "code",
      "metadata": {
        "id": "VTFQNK6LaeIn"
      },
      "source": [
        "# 라이브러리 로딩\n",
        "from sklearn.feature_extraction.text import TfidfVectorizer"
      ],
      "execution_count": 4,
      "outputs": []
    },
    {
      "cell_type": "code",
      "metadata": {
        "id": "TOmo60kHKZff",
        "outputId": "c59ed52d-7532-443a-ee12-0e81c31e8671",
        "colab": {
          "base_uri": "https://localhost:8080/"
        }
      },
      "source": [
        "#TF-IDF으로 train 데이터를 피처 벡터화 변환 수행\n",
        "\n",
        "vect = TfidfVectorizer()\n",
        "vect.fit(train['data'])\n",
        "train_x = vect.transform(train['data'])\n",
        "\n",
        "print('train data size', train_x.shape)"
      ],
      "execution_count": 5,
      "outputs": [
        {
          "output_type": "stream",
          "name": "stdout",
          "text": [
            "train data size (40000, 742720)\n"
          ]
        }
      ]
    },
    {
      "cell_type": "code",
      "metadata": {
        "id": "i4agg8VnYhCu",
        "outputId": "4783ef79-62b9-441a-cda2-7b56d0d08dc4",
        "colab": {
          "base_uri": "https://localhost:8080/"
        }
      },
      "source": [
        "#Train Data로 fit()된 TF-IDF를 이용해 테스트 데이터를 Feature Vector화 변환 수행\n",
        "\n",
        "test_x = vect.transform(test['data'])\n",
        "print('test data size', test_x.shape)"
      ],
      "execution_count": 6,
      "outputs": [
        {
          "output_type": "stream",
          "name": "stdout",
          "text": [
            "test data size (5000, 742720)\n"
          ]
        }
      ]
    }
  ]
}