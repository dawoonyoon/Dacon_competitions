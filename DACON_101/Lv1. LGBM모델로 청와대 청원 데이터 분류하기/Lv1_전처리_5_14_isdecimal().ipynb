{
  "nbformat": 4,
  "nbformat_minor": 0,
  "metadata": {
    "colab": {
      "name": "Lv1_전처리_5/14_isdecimal()",
      "provenance": [],
      "collapsed_sections": [
        "YLKidTge4gsx"
      ]
    },
    "kernelspec": {
      "name": "python3",
      "display_name": "Python 3"
    },
    "language_info": {
      "name": "python"
    }
  },
  "cells": [
    {
      "cell_type": "markdown",
      "metadata": {
        "id": "J1Is2vFL4cxY"
      },
      "source": [
        "## 실습\n",
        "---\n"
      ]
    },
    {
      "cell_type": "code",
      "metadata": {
        "id": "j7rIX3r0S_zo",
        "outputId": "dfb379cd-ace2-49bb-906d-616f87e8a987",
        "colab": {
          "base_uri": "https://localhost:8080/"
        }
      },
      "source": [
        "# isdecimal() 메소드를 이용해 output에 해당하는 값이 출력 되도록 특정 문자열을 제거 해보세요.\n",
        "\n",
        "string=\"1-2$3%4 5a\"\n",
        "\n",
        "# output : 12345\n",
        "\n",
        "isdecimal_list = []\n",
        "\n",
        "for i in string:\n",
        "  if i.isdecimal():\n",
        "    isdecimal_list.append(i)\n",
        "\n",
        "string_isdecimal = ''.join(isdecimal_list)\n",
        "print(string_isdecimal)"
      ],
      "execution_count": 3,
      "outputs": [
        {
          "output_type": "stream",
          "name": "stdout",
          "text": [
            "12345\n"
          ]
        }
      ]
    }
  ]
}