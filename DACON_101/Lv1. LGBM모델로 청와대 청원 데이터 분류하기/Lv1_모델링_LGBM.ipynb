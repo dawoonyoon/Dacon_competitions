{
  "nbformat": 4,
  "nbformat_minor": 0,
  "metadata": {
    "colab": {
      "name": "Lv1_모델링_LGBM",
      "provenance": [],
      "collapsed_sections": [
        "YLKidTge4gsx"
      ]
    },
    "kernelspec": {
      "name": "python3",
      "display_name": "Python 3"
    },
    "language_info": {
      "name": "python"
    }
  },
  "cells": [
    {
      "cell_type": "markdown",
      "metadata": {
        "id": "FqodyLxg4RLu"
      },
      "source": [
        "## 데이터 다운로드\n",
        "--- \n",
        "아래 셀을 실행시켜 데이터를 colab에 불러옵니다.  \n",
        "셀 실행은 <br>Windows: `Ctrl` + `Enter`<br>\n",
        "Mac: `Shift` + `Enter` <br>\n",
        "를 이용해 실행 시킬 수 있습니다. "
      ]
    },
    {
      "cell_type": "code",
      "metadata": {
        "id": "by55dpRPfTwZ",
        "outputId": "c9548b5b-a115-49da-a28b-dd1bce2a047f",
        "colab": {
          "base_uri": "https://localhost:8080/"
        }
      },
      "source": [
        "# 데이터 다운로드 링크로 데이터를 코랩에 불러옵니다.\n",
        "\n",
        "!wget 'https://bit.ly/3l6g8j3'\n",
        "\n",
        "import zipfile\n",
        "with zipfile.ZipFile('3l6g8j3', 'r') as existing_zip:\n",
        "    existing_zip.extractall('data')"
      ],
      "execution_count": 1,
      "outputs": [
        {
          "output_type": "stream",
          "name": "stdout",
          "text": [
            "--2022-02-06 06:02:17--  https://bit.ly/3l6g8j3\n",
            "Resolving bit.ly (bit.ly)... 67.199.248.10, 67.199.248.11\n",
            "Connecting to bit.ly (bit.ly)|67.199.248.10|:443... connected.\n",
            "HTTP request sent, awaiting response... 301 Moved Permanently\n",
            "Location: https://docs.google.com/uc?export=download&id=1n-cTWLp385P-DmmNuMAg6zJDw8MNAPwu [following]\n",
            "--2022-02-06 06:02:17--  https://docs.google.com/uc?export=download&id=1n-cTWLp385P-DmmNuMAg6zJDw8MNAPwu\n",
            "Resolving docs.google.com (docs.google.com)... 173.194.217.101, 173.194.217.102, 173.194.217.113, ...\n",
            "Connecting to docs.google.com (docs.google.com)|173.194.217.101|:443... connected.\n",
            "HTTP request sent, awaiting response... 302 Moved Temporarily\n",
            "Location: https://doc-0g-10-docs.googleusercontent.com/docs/securesc/ha0ro937gcuc7l7deffksulhg5h7mbp1/mhheht55dukqhktvq14d80nib2jvsnau/1644127275000/17946651057176172524/*/1n-cTWLp385P-DmmNuMAg6zJDw8MNAPwu?e=download [following]\n",
            "Warning: wildcards not supported in HTTP.\n",
            "--2022-02-06 06:02:20--  https://doc-0g-10-docs.googleusercontent.com/docs/securesc/ha0ro937gcuc7l7deffksulhg5h7mbp1/mhheht55dukqhktvq14d80nib2jvsnau/1644127275000/17946651057176172524/*/1n-cTWLp385P-DmmNuMAg6zJDw8MNAPwu?e=download\n",
            "Resolving doc-0g-10-docs.googleusercontent.com (doc-0g-10-docs.googleusercontent.com)... 173.194.213.132, 2607:f8b0:400c:c0a::84\n",
            "Connecting to doc-0g-10-docs.googleusercontent.com (doc-0g-10-docs.googleusercontent.com)|173.194.213.132|:443... connected.\n",
            "HTTP request sent, awaiting response... 200 OK\n",
            "Length: 22312699 (21M) [application/x-zip-compressed]\n",
            "Saving to: ‘3l6g8j3.1’\n",
            "\n",
            "3l6g8j3.1           100%[===================>]  21.28M   140MB/s    in 0.2s    \n",
            "\n",
            "2022-02-06 06:02:20 (140 MB/s) - ‘3l6g8j3.1’ saved [22312699/22312699]\n",
            "\n"
          ]
        }
      ]
    },
    {
      "cell_type": "code",
      "metadata": {
        "id": "DmDU-A_HPeEb"
      },
      "source": [
        "import pandas as pd\n",
        "\n",
        "train = pd.read_csv('data/train.csv',usecols = ['category','data'])\n",
        "test = pd.read_csv('data/test.csv',usecols = ['data'])"
      ],
      "execution_count": 2,
      "outputs": []
    },
    {
      "cell_type": "code",
      "metadata": {
        "id": "4Cc1TtCoDAwl"
      },
      "source": [
        "# train,test 데이터에서  '\\\\n' 단어 제거\n",
        "\n",
        "train['data'] = train['data'].apply(lambda x : str(x).replace('\\\\n',' ')) # 텍스트 데이터에서 '\\\\n' 문자열을 ' '로 변경\n",
        "test['data'] = test['data'].apply(lambda x : str(x).replace('\\\\n',' ')) # 텍스트 데이터에서 '\\\\n' 문자열을 ' '로 변경"
      ],
      "execution_count": 3,
      "outputs": []
    },
    {
      "cell_type": "code",
      "metadata": {
        "id": "p5Psv8eCDArE",
        "outputId": "b76ac0ec-16cf-45b9-a65d-66aac334cde8",
        "colab": {
          "base_uri": "https://localhost:8080/"
        }
      },
      "source": [
        "# 라이브러리 로딩\n",
        "from sklearn.feature_extraction.text import TfidfVectorizer\n",
        "\n",
        "#TF-IDF으로 train 데이터를 피처 벡터화 변환 수행\n",
        "\n",
        "vect = TfidfVectorizer()\n",
        "vect.fit(train['data'])\n",
        "train_x =  vect.transform(train['data'])\n",
        "\n",
        "print('train data size', train_x.shape)"
      ],
      "execution_count": 4,
      "outputs": [
        {
          "output_type": "stream",
          "name": "stdout",
          "text": [
            "train data size (40000, 697226)\n"
          ]
        }
      ]
    },
    {
      "cell_type": "markdown",
      "metadata": {
        "id": "J1Is2vFL4cxY"
      },
      "source": [
        "## 실습\n",
        "---\n"
      ]
    },
    {
      "cell_type": "code",
      "metadata": {
        "id": "-ycjElp2eW3Q"
      },
      "source": [
        "# 라이브러리 로딩\n",
        "from sklearn.model_selection import train_test_split"
      ],
      "execution_count": 5,
      "outputs": []
    },
    {
      "cell_type": "code",
      "metadata": {
        "id": "RPmiHhqEfhQx"
      },
      "source": [
        "# train_test_split() 메소드를 이용해 train/validation 데이터 나누기 \n",
        "# stratify 옵션을 활용하여 데이터 셋 split\n",
        "\n",
        "x_train,x_valid, y_train, y_valid = train_test_split(train_x, train['category'], stratify=train['category'])"
      ],
      "execution_count": 6,
      "outputs": []
    },
    {
      "cell_type": "code",
      "metadata": {
        "id": "a52vZxPDDk7-",
        "outputId": "49e9e2de-bb56-4c70-ad31-0730c0fbe0ad",
        "colab": {
          "base_uri": "https://localhost:8080/"
        }
      },
      "source": [
        "# LightGBM을 이용해 학습 및 검증 진행\n",
        "from lightgbm import LGBMRegressor\n",
        "\n",
        "\n",
        "model = LGBMRegressor()\n",
        "model.fit(x_train, y_train,\n",
        "          eval_set=[ (x_train, y_train), (x_valid, y_valid)])"
      ],
      "execution_count": 7,
      "outputs": [
        {
          "output_type": "stream",
          "name": "stdout",
          "text": [
            "[1]\ttraining's l2: 0.626445\tvalid_1's l2: 0.62599\n",
            "[2]\ttraining's l2: 0.593055\tvalid_1's l2: 0.592841\n",
            "[3]\ttraining's l2: 0.565149\tvalid_1's l2: 0.564517\n",
            "[4]\ttraining's l2: 0.541913\tvalid_1's l2: 0.541336\n",
            "[5]\ttraining's l2: 0.522356\tvalid_1's l2: 0.520965\n",
            "[6]\ttraining's l2: 0.505126\tvalid_1's l2: 0.504133\n",
            "[7]\ttraining's l2: 0.490395\tvalid_1's l2: 0.489938\n",
            "[8]\ttraining's l2: 0.477097\tvalid_1's l2: 0.476706\n",
            "[9]\ttraining's l2: 0.465241\tvalid_1's l2: 0.46485\n",
            "[10]\ttraining's l2: 0.454882\tvalid_1's l2: 0.454935\n",
            "[11]\ttraining's l2: 0.445309\tvalid_1's l2: 0.445698\n",
            "[12]\ttraining's l2: 0.436998\tvalid_1's l2: 0.437941\n",
            "[13]\ttraining's l2: 0.429265\tvalid_1's l2: 0.430348\n",
            "[14]\ttraining's l2: 0.422226\tvalid_1's l2: 0.423026\n",
            "[15]\ttraining's l2: 0.415879\tvalid_1's l2: 0.416849\n",
            "[16]\ttraining's l2: 0.409854\tvalid_1's l2: 0.411101\n",
            "[17]\ttraining's l2: 0.404527\tvalid_1's l2: 0.406752\n",
            "[18]\ttraining's l2: 0.399608\tvalid_1's l2: 0.4021\n",
            "[19]\ttraining's l2: 0.395028\tvalid_1's l2: 0.3979\n",
            "[20]\ttraining's l2: 0.390472\tvalid_1's l2: 0.394142\n",
            "[21]\ttraining's l2: 0.386516\tvalid_1's l2: 0.390627\n",
            "[22]\ttraining's l2: 0.382799\tvalid_1's l2: 0.38757\n",
            "[23]\ttraining's l2: 0.379116\tvalid_1's l2: 0.384457\n",
            "[24]\ttraining's l2: 0.375746\tvalid_1's l2: 0.381356\n",
            "[25]\ttraining's l2: 0.37274\tvalid_1's l2: 0.379042\n",
            "[26]\ttraining's l2: 0.369802\tvalid_1's l2: 0.376779\n",
            "[27]\ttraining's l2: 0.366986\tvalid_1's l2: 0.374357\n",
            "[28]\ttraining's l2: 0.36424\tvalid_1's l2: 0.371965\n",
            "[29]\ttraining's l2: 0.361715\tvalid_1's l2: 0.369892\n",
            "[30]\ttraining's l2: 0.359326\tvalid_1's l2: 0.368329\n",
            "[31]\ttraining's l2: 0.357016\tvalid_1's l2: 0.366768\n",
            "[32]\ttraining's l2: 0.354836\tvalid_1's l2: 0.365043\n",
            "[33]\ttraining's l2: 0.352766\tvalid_1's l2: 0.363553\n",
            "[34]\ttraining's l2: 0.350752\tvalid_1's l2: 0.362125\n",
            "[35]\ttraining's l2: 0.348774\tvalid_1's l2: 0.360628\n",
            "[36]\ttraining's l2: 0.346899\tvalid_1's l2: 0.359153\n",
            "[37]\ttraining's l2: 0.345149\tvalid_1's l2: 0.357788\n",
            "[38]\ttraining's l2: 0.343399\tvalid_1's l2: 0.35677\n",
            "[39]\ttraining's l2: 0.341732\tvalid_1's l2: 0.355899\n",
            "[40]\ttraining's l2: 0.340156\tvalid_1's l2: 0.354639\n",
            "[41]\ttraining's l2: 0.33858\tvalid_1's l2: 0.353599\n",
            "[42]\ttraining's l2: 0.337039\tvalid_1's l2: 0.35288\n",
            "[43]\ttraining's l2: 0.335578\tvalid_1's l2: 0.352147\n",
            "[44]\ttraining's l2: 0.334148\tvalid_1's l2: 0.351124\n",
            "[45]\ttraining's l2: 0.332763\tvalid_1's l2: 0.350182\n",
            "[46]\ttraining's l2: 0.33139\tvalid_1's l2: 0.349352\n",
            "[47]\ttraining's l2: 0.330049\tvalid_1's l2: 0.348645\n",
            "[48]\ttraining's l2: 0.328795\tvalid_1's l2: 0.347883\n",
            "[49]\ttraining's l2: 0.32756\tvalid_1's l2: 0.347157\n",
            "[50]\ttraining's l2: 0.326382\tvalid_1's l2: 0.346534\n",
            "[51]\ttraining's l2: 0.325169\tvalid_1's l2: 0.345773\n",
            "[52]\ttraining's l2: 0.324021\tvalid_1's l2: 0.345221\n",
            "[53]\ttraining's l2: 0.322853\tvalid_1's l2: 0.344821\n",
            "[54]\ttraining's l2: 0.321721\tvalid_1's l2: 0.344241\n",
            "[55]\ttraining's l2: 0.320643\tvalid_1's l2: 0.343621\n",
            "[56]\ttraining's l2: 0.319567\tvalid_1's l2: 0.343198\n",
            "[57]\ttraining's l2: 0.318504\tvalid_1's l2: 0.34275\n",
            "[58]\ttraining's l2: 0.317404\tvalid_1's l2: 0.342213\n",
            "[59]\ttraining's l2: 0.316424\tvalid_1's l2: 0.341838\n",
            "[60]\ttraining's l2: 0.315452\tvalid_1's l2: 0.341416\n",
            "[61]\ttraining's l2: 0.314424\tvalid_1's l2: 0.34111\n",
            "[62]\ttraining's l2: 0.313423\tvalid_1's l2: 0.340747\n",
            "[63]\ttraining's l2: 0.312456\tvalid_1's l2: 0.340106\n",
            "[64]\ttraining's l2: 0.311515\tvalid_1's l2: 0.339756\n",
            "[65]\ttraining's l2: 0.310627\tvalid_1's l2: 0.339444\n",
            "[66]\ttraining's l2: 0.309745\tvalid_1's l2: 0.339097\n",
            "[67]\ttraining's l2: 0.30888\tvalid_1's l2: 0.338607\n",
            "[68]\ttraining's l2: 0.308019\tvalid_1's l2: 0.338311\n",
            "[69]\ttraining's l2: 0.307192\tvalid_1's l2: 0.338029\n",
            "[70]\ttraining's l2: 0.306338\tvalid_1's l2: 0.337669\n",
            "[71]\ttraining's l2: 0.305535\tvalid_1's l2: 0.337438\n",
            "[72]\ttraining's l2: 0.304714\tvalid_1's l2: 0.337083\n",
            "[73]\ttraining's l2: 0.303834\tvalid_1's l2: 0.33695\n",
            "[74]\ttraining's l2: 0.303044\tvalid_1's l2: 0.336483\n",
            "[75]\ttraining's l2: 0.302172\tvalid_1's l2: 0.336161\n",
            "[76]\ttraining's l2: 0.301399\tvalid_1's l2: 0.335885\n",
            "[77]\ttraining's l2: 0.300569\tvalid_1's l2: 0.335556\n",
            "[78]\ttraining's l2: 0.299845\tvalid_1's l2: 0.335244\n",
            "[79]\ttraining's l2: 0.299112\tvalid_1's l2: 0.334883\n",
            "[80]\ttraining's l2: 0.298365\tvalid_1's l2: 0.334658\n",
            "[81]\ttraining's l2: 0.297591\tvalid_1's l2: 0.3346\n",
            "[82]\ttraining's l2: 0.296849\tvalid_1's l2: 0.334417\n",
            "[83]\ttraining's l2: 0.296151\tvalid_1's l2: 0.334132\n",
            "[84]\ttraining's l2: 0.29547\tvalid_1's l2: 0.333852\n",
            "[85]\ttraining's l2: 0.29481\tvalid_1's l2: 0.333487\n",
            "[86]\ttraining's l2: 0.29412\tvalid_1's l2: 0.333437\n",
            "[87]\ttraining's l2: 0.293447\tvalid_1's l2: 0.333135\n",
            "[88]\ttraining's l2: 0.292755\tvalid_1's l2: 0.332784\n",
            "[89]\ttraining's l2: 0.292094\tvalid_1's l2: 0.33267\n",
            "[90]\ttraining's l2: 0.291422\tvalid_1's l2: 0.332541\n",
            "[91]\ttraining's l2: 0.290788\tvalid_1's l2: 0.332074\n",
            "[92]\ttraining's l2: 0.290131\tvalid_1's l2: 0.331902\n",
            "[93]\ttraining's l2: 0.289476\tvalid_1's l2: 0.331722\n",
            "[94]\ttraining's l2: 0.288763\tvalid_1's l2: 0.33161\n",
            "[95]\ttraining's l2: 0.288155\tvalid_1's l2: 0.331433\n",
            "[96]\ttraining's l2: 0.287518\tvalid_1's l2: 0.331133\n",
            "[97]\ttraining's l2: 0.286908\tvalid_1's l2: 0.331013\n",
            "[98]\ttraining's l2: 0.286309\tvalid_1's l2: 0.330828\n",
            "[99]\ttraining's l2: 0.285576\tvalid_1's l2: 0.330408\n",
            "[100]\ttraining's l2: 0.284932\tvalid_1's l2: 0.330203\n"
          ]
        },
        {
          "output_type": "execute_result",
          "data": {
            "text/plain": [
              "LGBMRegressor()"
            ]
          },
          "metadata": {},
          "execution_count": 7
        }
      ]
    }
  ]
}