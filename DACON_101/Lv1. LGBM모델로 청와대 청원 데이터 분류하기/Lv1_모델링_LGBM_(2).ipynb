{
  "nbformat": 4,
  "nbformat_minor": 0,
  "metadata": {
    "colab": {
      "name": "Lv1_모델링_LGBM - (2)",
      "provenance": [],
      "collapsed_sections": [
        "YLKidTge4gsx"
      ]
    },
    "kernelspec": {
      "name": "python3",
      "display_name": "Python 3"
    },
    "language_info": {
      "name": "python"
    }
  },
  "cells": [
    {
      "cell_type": "markdown",
      "metadata": {
        "id": "FqodyLxg4RLu"
      },
      "source": [
        "## 데이터 다운로드\n",
        "--- \n",
        "아래 셀을 실행시켜 데이터를 colab에 불러옵니다.  \n",
        "셀 실행은 <br>Windows: `Ctrl` + `Enter`<br>\n",
        "Mac: `Shift` + `Enter` <br>\n",
        "를 이용해 실행 시킬 수 있습니다. "
      ]
    },
    {
      "cell_type": "code",
      "metadata": {
        "id": "by55dpRPfTwZ",
        "outputId": "4d17c9c7-d8a4-4784-8c28-58cde0c60a21",
        "colab": {
          "base_uri": "https://localhost:8080/"
        }
      },
      "source": [
        "# 데이터 다운로드 링크로 데이터를 코랩에 불러옵니다.\n",
        "\n",
        "!wget 'https://bit.ly/3l6g8j3'\n",
        "\n",
        "import zipfile\n",
        "with zipfile.ZipFile('3l6g8j3', 'r') as existing_zip:\n",
        "    existing_zip.extractall('data')"
      ],
      "execution_count": 1,
      "outputs": [
        {
          "output_type": "stream",
          "name": "stdout",
          "text": [
            "--2022-02-06 15:07:42--  https://bit.ly/3l6g8j3\n",
            "Resolving bit.ly (bit.ly)... 67.199.248.10, 67.199.248.11\n",
            "Connecting to bit.ly (bit.ly)|67.199.248.10|:443... connected.\n",
            "HTTP request sent, awaiting response... 301 Moved Permanently\n",
            "Location: https://docs.google.com/uc?export=download&id=1n-cTWLp385P-DmmNuMAg6zJDw8MNAPwu [following]\n",
            "--2022-02-06 15:07:42--  https://docs.google.com/uc?export=download&id=1n-cTWLp385P-DmmNuMAg6zJDw8MNAPwu\n",
            "Resolving docs.google.com (docs.google.com)... 142.250.97.138, 142.250.97.113, 142.250.97.101, ...\n",
            "Connecting to docs.google.com (docs.google.com)|142.250.97.138|:443... connected.\n",
            "HTTP request sent, awaiting response... 302 Moved Temporarily\n",
            "Location: https://doc-0g-10-docs.googleusercontent.com/docs/securesc/ha0ro937gcuc7l7deffksulhg5h7mbp1/macg0upp6f7lo76ta23h7gv4oie0ijlo/1644160050000/17946651057176172524/*/1n-cTWLp385P-DmmNuMAg6zJDw8MNAPwu?e=download [following]\n",
            "Warning: wildcards not supported in HTTP.\n",
            "--2022-02-06 15:07:45--  https://doc-0g-10-docs.googleusercontent.com/docs/securesc/ha0ro937gcuc7l7deffksulhg5h7mbp1/macg0upp6f7lo76ta23h7gv4oie0ijlo/1644160050000/17946651057176172524/*/1n-cTWLp385P-DmmNuMAg6zJDw8MNAPwu?e=download\n",
            "Resolving doc-0g-10-docs.googleusercontent.com (doc-0g-10-docs.googleusercontent.com)... 173.194.217.132, 2607:f8b0:400c:c13::84\n",
            "Connecting to doc-0g-10-docs.googleusercontent.com (doc-0g-10-docs.googleusercontent.com)|173.194.217.132|:443... connected.\n",
            "HTTP request sent, awaiting response... 200 OK\n",
            "Length: 22312699 (21M) [application/x-zip-compressed]\n",
            "Saving to: ‘3l6g8j3’\n",
            "\n",
            "3l6g8j3             100%[===================>]  21.28M  88.2MB/s    in 0.2s    \n",
            "\n",
            "2022-02-06 15:07:46 (88.2 MB/s) - ‘3l6g8j3’ saved [22312699/22312699]\n",
            "\n"
          ]
        }
      ]
    },
    {
      "cell_type": "code",
      "metadata": {
        "id": "DmDU-A_HPeEb"
      },
      "source": [
        "# 데이터 불러오기\n",
        "import pandas as pd\n",
        "\n",
        "train = pd.read_csv('data/train.csv',usecols = ['category','data'])\n",
        "test = pd.read_csv('data/test.csv',usecols = ['data'])"
      ],
      "execution_count": 2,
      "outputs": []
    },
    {
      "cell_type": "code",
      "metadata": {
        "id": "4Cc1TtCoDAwl"
      },
      "source": [
        "# train,test 데이터에서  '\\\\n' 단어 제거\n",
        "\n",
        "train['data'] = train['data'].apply(lambda x : str(x).replace('\\\\n',' ')) # 텍스트 데이터에서 '\\\\n' 문자열을 ' '로 변경\n",
        "test['data'] = test['data'].apply(lambda x : str(x).replace('\\\\n',' ')) # 텍스트 데이터에서 '\\\\n' 문자열을 ' '로 변경"
      ],
      "execution_count": 3,
      "outputs": []
    },
    {
      "cell_type": "code",
      "metadata": {
        "id": "p5Psv8eCDArE",
        "colab": {
          "base_uri": "https://localhost:8080/"
        },
        "outputId": "ff69071b-b704-451a-f648-0dfb2891d383"
      },
      "source": [
        "# 라이브러리 로딩\n",
        "from sklearn.feature_extraction.text import TfidfVectorizer\n",
        "\n",
        "#TF-IDF으로 train 데이터를 피처 벡터화 변환 수행\n",
        "\n",
        "vect = TfidfVectorizer()\n",
        "vect.fit(train['data'])\n",
        "train_x =  vect.transform(train['data'])\n",
        "\n",
        "print('train data size', train_x.shape)"
      ],
      "execution_count": 4,
      "outputs": [
        {
          "output_type": "stream",
          "name": "stdout",
          "text": [
            "train data size (40000, 697226)\n"
          ]
        }
      ]
    },
    {
      "cell_type": "code",
      "metadata": {
        "id": "KtIEGm2WEVew"
      },
      "source": [
        "from sklearn.model_selection import train_test_split\n",
        "#train_test_split() 메소드를 이용해 train/validation 데이터 나누기 \n",
        "x_train,x_valid, y_train, y_valid = train_test_split(train_x,train['category'],stratify = train['category'])"
      ],
      "execution_count": 5,
      "outputs": []
    },
    {
      "cell_type": "markdown",
      "metadata": {
        "id": "J1Is2vFL4cxY"
      },
      "source": [
        "## 실습\n",
        "---\n"
      ]
    },
    {
      "cell_type": "code",
      "metadata": {
        "id": "a52vZxPDDk7-",
        "outputId": "4abf9edf-a5d2-458e-88b4-52b95744ccbd",
        "colab": {
          "base_uri": "https://localhost:8080/"
        }
      },
      "source": [
        "# LightGBM을 이용해 학습 및 검증 진행\n",
        "from lightgbm import LGBMRegressor\n",
        "\n",
        "#모델 정의 \n",
        "model = LGBMRegressor()\n",
        "\n",
        "#평가 산식을 AUC로 설정, n_estimators 기준 5번 마다 결과값 출력하게 모델 학습.\n",
        "model.fit(train_x, train['category'],\n",
        "          eval_set=[ (x_train, y_train), (x_valid, y_valid) ],\n",
        "          eval_metric='auc', verbose=5)"
      ],
      "execution_count": 6,
      "outputs": [
        {
          "output_type": "stream",
          "name": "stdout",
          "text": [
            "[5]\tvalid_0's auc: 0.748618\tvalid_0's l2: 0.521822\tvalid_1's auc: 0.746711\tvalid_1's l2: 0.520125\n",
            "[10]\tvalid_0's auc: 0.777249\tvalid_0's l2: 0.455408\tvalid_1's auc: 0.77662\tvalid_1's l2: 0.452152\n",
            "[15]\tvalid_0's auc: 0.7942\tvalid_0's l2: 0.416148\tvalid_1's auc: 0.795026\tvalid_1's l2: 0.413184\n",
            "[20]\tvalid_0's auc: 0.807472\tvalid_0's l2: 0.391471\tvalid_1's auc: 0.809959\tvalid_1's l2: 0.387826\n",
            "[25]\tvalid_0's auc: 0.819458\tvalid_0's l2: 0.374663\tvalid_1's auc: 0.81984\tvalid_1's l2: 0.370974\n",
            "[30]\tvalid_0's auc: 0.830091\tvalid_0's l2: 0.361912\tvalid_1's auc: 0.8308\tvalid_1's l2: 0.358228\n",
            "[35]\tvalid_0's auc: 0.840576\tvalid_0's l2: 0.352122\tvalid_1's auc: 0.841772\tvalid_1's l2: 0.347999\n",
            "[40]\tvalid_0's auc: 0.848646\tvalid_0's l2: 0.343905\tvalid_1's auc: 0.847935\tvalid_1's l2: 0.339922\n",
            "[45]\tvalid_0's auc: 0.853207\tvalid_0's l2: 0.337016\tvalid_1's auc: 0.852349\tvalid_1's l2: 0.333306\n",
            "[50]\tvalid_0's auc: 0.857342\tvalid_0's l2: 0.331056\tvalid_1's auc: 0.856211\tvalid_1's l2: 0.327363\n",
            "[55]\tvalid_0's auc: 0.862578\tvalid_0's l2: 0.325733\tvalid_1's auc: 0.860929\tvalid_1's l2: 0.322453\n",
            "[60]\tvalid_0's auc: 0.866457\tvalid_0's l2: 0.320769\tvalid_1's auc: 0.864535\tvalid_1's l2: 0.317892\n",
            "[65]\tvalid_0's auc: 0.870192\tvalid_0's l2: 0.3165\tvalid_1's auc: 0.8683\tvalid_1's l2: 0.31354\n",
            "[70]\tvalid_0's auc: 0.873811\tvalid_0's l2: 0.312492\tvalid_1's auc: 0.87214\tvalid_1's l2: 0.309705\n",
            "[75]\tvalid_0's auc: 0.876556\tvalid_0's l2: 0.308745\tvalid_1's auc: 0.874127\tvalid_1's l2: 0.306153\n",
            "[80]\tvalid_0's auc: 0.87902\tvalid_0's l2: 0.305326\tvalid_1's auc: 0.877201\tvalid_1's l2: 0.302627\n",
            "[85]\tvalid_0's auc: 0.881683\tvalid_0's l2: 0.302075\tvalid_1's auc: 0.879248\tvalid_1's l2: 0.299491\n",
            "[90]\tvalid_0's auc: 0.8843\tvalid_0's l2: 0.298961\tvalid_1's auc: 0.881862\tvalid_1's l2: 0.296459\n",
            "[95]\tvalid_0's auc: 0.886474\tvalid_0's l2: 0.295871\tvalid_1's auc: 0.884196\tvalid_1's l2: 0.293555\n",
            "[100]\tvalid_0's auc: 0.888703\tvalid_0's l2: 0.292899\tvalid_1's auc: 0.88605\tvalid_1's l2: 0.290905\n"
          ]
        },
        {
          "output_type": "execute_result",
          "data": {
            "text/plain": [
              "LGBMRegressor()"
            ]
          },
          "metadata": {},
          "execution_count": 6
        }
      ]
    }
  ]
}