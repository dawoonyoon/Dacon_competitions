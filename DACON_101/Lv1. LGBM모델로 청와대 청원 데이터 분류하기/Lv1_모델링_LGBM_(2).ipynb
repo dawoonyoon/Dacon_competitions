{
  "nbformat": 4,
  "nbformat_minor": 0,
  "metadata": {
    "colab": {
      "name": "Lv1_모델링_LGBM - (2)",
      "provenance": [],
      "collapsed_sections": [
        "YLKidTge4gsx"
      ]
    },
    "kernelspec": {
      "name": "python3",
      "display_name": "Python 3"
    },
    "language_info": {
      "name": "python"
    }
  },
  "cells": [
    {
      "cell_type": "markdown",
      "metadata": {
        "id": "FqodyLxg4RLu"
      },
      "source": [
        "## 데이터 다운로드\n",
        "--- \n",
        "아래 셀을 실행시켜 데이터를 colab에 불러옵니다.  \n",
        "셀 실행은 <br>Windows: `Ctrl` + `Enter`<br>\n",
        "Mac: `Shift` + `Enter` <br>\n",
        "를 이용해 실행 시킬 수 있습니다. "
      ]
    },
    {
      "cell_type": "code",
      "metadata": {
        "id": "by55dpRPfTwZ",
        "outputId": "689e6d4c-0f72-4c01-8f0f-55eb5f8df61f",
        "colab": {
          "base_uri": "https://localhost:8080/"
        }
      },
      "source": [
        "# 데이터 다운로드 링크로 데이터를 코랩에 불러옵니다.\n",
        "\n",
        "!wget 'https://bit.ly/3l6g8j3'\n",
        "\n",
        "import zipfile\n",
        "with zipfile.ZipFile('3l6g8j3', 'r') as existing_zip:\n",
        "    existing_zip.extractall('data')"
      ],
      "execution_count": 1,
      "outputs": [
        {
          "output_type": "stream",
          "name": "stdout",
          "text": [
            "--2022-02-07 14:22:41--  https://bit.ly/3l6g8j3\n",
            "Resolving bit.ly (bit.ly)... 67.199.248.11, 67.199.248.10\n",
            "Connecting to bit.ly (bit.ly)|67.199.248.11|:443... connected.\n",
            "HTTP request sent, awaiting response... 301 Moved Permanently\n",
            "Location: https://docs.google.com/uc?export=download&id=1n-cTWLp385P-DmmNuMAg6zJDw8MNAPwu [following]\n",
            "--2022-02-07 14:22:41--  https://docs.google.com/uc?export=download&id=1n-cTWLp385P-DmmNuMAg6zJDw8MNAPwu\n",
            "Resolving docs.google.com (docs.google.com)... 142.250.141.138, 142.250.141.102, 142.250.141.100, ...\n",
            "Connecting to docs.google.com (docs.google.com)|142.250.141.138|:443... connected.\n",
            "HTTP request sent, awaiting response... 302 Moved Temporarily\n",
            "Location: https://doc-0g-10-docs.googleusercontent.com/docs/securesc/ha0ro937gcuc7l7deffksulhg5h7mbp1/vitfq81s5j606ff5vvt90ujnbovl6mh1/1644243750000/17946651057176172524/*/1n-cTWLp385P-DmmNuMAg6zJDw8MNAPwu?e=download [following]\n",
            "Warning: wildcards not supported in HTTP.\n",
            "--2022-02-07 14:22:44--  https://doc-0g-10-docs.googleusercontent.com/docs/securesc/ha0ro937gcuc7l7deffksulhg5h7mbp1/vitfq81s5j606ff5vvt90ujnbovl6mh1/1644243750000/17946651057176172524/*/1n-cTWLp385P-DmmNuMAg6zJDw8MNAPwu?e=download\n",
            "Resolving doc-0g-10-docs.googleusercontent.com (doc-0g-10-docs.googleusercontent.com)... 142.250.141.132, 2607:f8b0:4023:c0b::84\n",
            "Connecting to doc-0g-10-docs.googleusercontent.com (doc-0g-10-docs.googleusercontent.com)|142.250.141.132|:443... connected.\n",
            "HTTP request sent, awaiting response... 200 OK\n",
            "Length: 22312699 (21M) [application/x-zip-compressed]\n",
            "Saving to: ‘3l6g8j3’\n",
            "\n",
            "3l6g8j3             100%[===================>]  21.28M  50.4MB/s    in 0.4s    \n",
            "\n",
            "2022-02-07 14:22:45 (50.4 MB/s) - ‘3l6g8j3’ saved [22312699/22312699]\n",
            "\n"
          ]
        }
      ]
    },
    {
      "cell_type": "code",
      "metadata": {
        "id": "DmDU-A_HPeEb"
      },
      "source": [
        "# 데이터 불러오기\n",
        "import pandas as pd\n",
        "\n",
        "train = pd.read_csv('data/train.csv',usecols = ['category','data'])\n",
        "test = pd.read_csv('data/test.csv',usecols = ['data'])"
      ],
      "execution_count": 2,
      "outputs": []
    },
    {
      "cell_type": "code",
      "metadata": {
        "id": "4Cc1TtCoDAwl"
      },
      "source": [
        "# train,test 데이터에서  '\\\\n' 단어 제거\n",
        "\n",
        "train['data'] = train['data'].apply(lambda x : str(x).replace('\\\\n',' ')) # 텍스트 데이터에서 '\\\\n' 문자열을 ' '로 변경\n",
        "test['data'] = test['data'].apply(lambda x : str(x).replace('\\\\n',' ')) # 텍스트 데이터에서 '\\\\n' 문자열을 ' '로 변경"
      ],
      "execution_count": 3,
      "outputs": []
    },
    {
      "cell_type": "code",
      "metadata": {
        "id": "p5Psv8eCDArE",
        "colab": {
          "base_uri": "https://localhost:8080/"
        },
        "outputId": "ba448393-3eca-43b3-b673-9ce87913b372"
      },
      "source": [
        "# 라이브러리 로딩\n",
        "from sklearn.feature_extraction.text import TfidfVectorizer\n",
        "\n",
        "#TF-IDF으로 train 데이터를 피처 벡터화 변환 수행\n",
        "\n",
        "vect = TfidfVectorizer()\n",
        "vect.fit(train['data'])\n",
        "train_x =  vect.transform(train['data'])\n",
        "\n",
        "print('train data size', train_x.shape)"
      ],
      "execution_count": 4,
      "outputs": [
        {
          "output_type": "stream",
          "name": "stdout",
          "text": [
            "train data size (40000, 697226)\n"
          ]
        }
      ]
    },
    {
      "cell_type": "code",
      "metadata": {
        "id": "KtIEGm2WEVew"
      },
      "source": [
        "from sklearn.model_selection import train_test_split\n",
        "#train_test_split() 메소드를 이용해 train/validation 데이터 나누기 \n",
        "x_train,x_valid, y_train, y_valid = train_test_split(train_x,train['category'],stratify = train['category'])"
      ],
      "execution_count": 5,
      "outputs": []
    },
    {
      "cell_type": "markdown",
      "metadata": {
        "id": "J1Is2vFL4cxY"
      },
      "source": [
        "## 실습\n",
        "---\n"
      ]
    },
    {
      "cell_type": "code",
      "metadata": {
        "id": "a52vZxPDDk7-",
        "outputId": "1ba672b1-b318-4df1-948b-beb16ad39d8c",
        "colab": {
          "base_uri": "https://localhost:8080/"
        }
      },
      "source": [
        "# LightGBM을 이용해 학습 및 검증 진행\n",
        "from lightgbm import LGBMClassifier\n",
        "\n",
        "#모델 정의 \n",
        "model = LGBMClassifier()\n",
        "\n",
        "#n_estimators 기준 5번 마다 결과값 출력하게 모델 학습.\n",
        "model.fit(train_x,train['category'], \n",
        "           eval_set = [(x_train,y_train),(x_valid,y_valid)],\n",
        "          verbose = 5)"
      ],
      "execution_count": 10,
      "outputs": [
        {
          "output_type": "stream",
          "name": "stdout",
          "text": [
            "[5]\tvalid_0's multi_logloss: 0.908222\tvalid_1's multi_logloss: 0.908204\n",
            "[10]\tvalid_0's multi_logloss: 0.801429\tvalid_1's multi_logloss: 0.801153\n",
            "[15]\tvalid_0's multi_logloss: 0.731339\tvalid_1's multi_logloss: 0.731332\n",
            "[20]\tvalid_0's multi_logloss: 0.681553\tvalid_1's multi_logloss: 0.681402\n",
            "[25]\tvalid_0's multi_logloss: 0.643857\tvalid_1's multi_logloss: 0.643616\n",
            "[30]\tvalid_0's multi_logloss: 0.613979\tvalid_1's multi_logloss: 0.613652\n",
            "[35]\tvalid_0's multi_logloss: 0.589606\tvalid_1's multi_logloss: 0.588749\n",
            "[40]\tvalid_0's multi_logloss: 0.569131\tvalid_1's multi_logloss: 0.568297\n",
            "[45]\tvalid_0's multi_logloss: 0.551636\tvalid_1's multi_logloss: 0.550642\n",
            "[50]\tvalid_0's multi_logloss: 0.536385\tvalid_1's multi_logloss: 0.535242\n",
            "[55]\tvalid_0's multi_logloss: 0.522819\tvalid_1's multi_logloss: 0.521696\n",
            "[60]\tvalid_0's multi_logloss: 0.510665\tvalid_1's multi_logloss: 0.509769\n",
            "[65]\tvalid_0's multi_logloss: 0.499735\tvalid_1's multi_logloss: 0.498515\n",
            "[70]\tvalid_0's multi_logloss: 0.489665\tvalid_1's multi_logloss: 0.488543\n",
            "[75]\tvalid_0's multi_logloss: 0.480511\tvalid_1's multi_logloss: 0.479224\n",
            "[80]\tvalid_0's multi_logloss: 0.472083\tvalid_1's multi_logloss: 0.470496\n",
            "[85]\tvalid_0's multi_logloss: 0.464147\tvalid_1's multi_logloss: 0.462501\n",
            "[90]\tvalid_0's multi_logloss: 0.456688\tvalid_1's multi_logloss: 0.454947\n",
            "[95]\tvalid_0's multi_logloss: 0.449691\tvalid_1's multi_logloss: 0.447858\n",
            "[100]\tvalid_0's multi_logloss: 0.442938\tvalid_1's multi_logloss: 0.441322\n"
          ]
        },
        {
          "output_type": "execute_result",
          "data": {
            "text/plain": [
              "LGBMClassifier()"
            ]
          },
          "metadata": {},
          "execution_count": 10
        }
      ]
    }
  ]
}