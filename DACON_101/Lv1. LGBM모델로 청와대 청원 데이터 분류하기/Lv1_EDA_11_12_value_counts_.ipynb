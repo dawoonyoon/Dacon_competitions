{
  "nbformat": 4,
  "nbformat_minor": 0,
  "metadata": {
    "colab": {
      "name": "Lv1_EDA_11/12_value_counts .ipynb",
      "provenance": [],
      "collapsed_sections": [
        "YLKidTge4gsx"
      ]
    },
    "kernelspec": {
      "name": "python3",
      "display_name": "Python 3"
    },
    "language_info": {
      "name": "python"
    }
  },
  "cells": [
    {
      "cell_type": "markdown",
      "metadata": {
        "id": "Y8EsppNShcez"
      },
      "source": [
        "# 셀을 실행할 때 팝업이 뜨면 `무시하고 계속하기` 를 눌러주세요\n"
      ]
    },
    {
      "cell_type": "markdown",
      "metadata": {
        "id": "FqodyLxg4RLu"
      },
      "source": [
        "## 데이터 다운로드\n",
        "--- \n",
        "아래 셀을 실행시켜 데이터를 colab에 불러옵니다.  \n",
        "셀 실행은 <br>Windows: `Ctrl` + `Enter`<br>\n",
        "Mac: `Shift` + `Enter` <br>\n",
        "를 이용해 실행 시킬 수 있습니다. "
      ]
    },
    {
      "cell_type": "code",
      "metadata": {
        "id": "by55dpRPfTwZ",
        "outputId": "c0a3e04c-c9f6-4983-f41c-c4c792e5a9cf",
        "colab": {
          "base_uri": "https://localhost:8080/"
        }
      },
      "source": [
        "# 데이터 다운로드 링크로 데이터를 코랩에 불러옵니다.\n",
        "\n",
        "!wget 'https://bit.ly/3l6g8j3'\n",
        "\n",
        "import zipfile\n",
        "with zipfile.ZipFile('3l6g8j3', 'r') as existing_zip:\n",
        "    existing_zip.extractall('data')"
      ],
      "execution_count": 1,
      "outputs": [
        {
          "output_type": "stream",
          "name": "stdout",
          "text": [
            "--2022-01-26 11:41:10--  https://bit.ly/3l6g8j3\n",
            "Resolving bit.ly (bit.ly)... 67.199.248.10, 67.199.248.11\n",
            "Connecting to bit.ly (bit.ly)|67.199.248.10|:443... connected.\n",
            "HTTP request sent, awaiting response... 301 Moved Permanently\n",
            "Location: https://docs.google.com/uc?export=download&id=1n-cTWLp385P-DmmNuMAg6zJDw8MNAPwu [following]\n",
            "--2022-01-26 11:41:10--  https://docs.google.com/uc?export=download&id=1n-cTWLp385P-DmmNuMAg6zJDw8MNAPwu\n",
            "Resolving docs.google.com (docs.google.com)... 142.250.65.78, 2607:f8b0:4004:832::200e\n",
            "Connecting to docs.google.com (docs.google.com)|142.250.65.78|:443... connected.\n",
            "HTTP request sent, awaiting response... 302 Moved Temporarily\n",
            "Location: https://doc-0g-10-docs.googleusercontent.com/docs/securesc/ha0ro937gcuc7l7deffksulhg5h7mbp1/cajhaalmj3j2qa35sd2eg698t4mqn3fi/1643197200000/17946651057176172524/*/1n-cTWLp385P-DmmNuMAg6zJDw8MNAPwu?e=download [following]\n",
            "Warning: wildcards not supported in HTTP.\n",
            "--2022-01-26 11:41:14--  https://doc-0g-10-docs.googleusercontent.com/docs/securesc/ha0ro937gcuc7l7deffksulhg5h7mbp1/cajhaalmj3j2qa35sd2eg698t4mqn3fi/1643197200000/17946651057176172524/*/1n-cTWLp385P-DmmNuMAg6zJDw8MNAPwu?e=download\n",
            "Resolving doc-0g-10-docs.googleusercontent.com (doc-0g-10-docs.googleusercontent.com)... 142.250.65.65, 2607:f8b0:4004:832::2001\n",
            "Connecting to doc-0g-10-docs.googleusercontent.com (doc-0g-10-docs.googleusercontent.com)|142.250.65.65|:443... connected.\n",
            "HTTP request sent, awaiting response... 200 OK\n",
            "Length: 22312699 (21M) [application/x-zip-compressed]\n",
            "Saving to: ‘3l6g8j3’\n",
            "\n",
            "3l6g8j3             100%[===================>]  21.28M  84.3MB/s    in 0.3s    \n",
            "\n",
            "2022-01-26 11:41:14 (84.3 MB/s) - ‘3l6g8j3’ saved [22312699/22312699]\n",
            "\n"
          ]
        }
      ]
    },
    {
      "cell_type": "code",
      "metadata": {
        "id": "DmDU-A_HPeEb"
      },
      "source": [
        "import pandas as pd\n",
        "\n",
        "train = pd.read_csv('data/train.csv')\n",
        "test = pd.read_csv('data/test.csv')"
      ],
      "execution_count": 2,
      "outputs": []
    },
    {
      "cell_type": "markdown",
      "metadata": {
        "id": "J1Is2vFL4cxY"
      },
      "source": [
        "## 실습\n",
        "---\n",
        "train 데이터에서 category 컬럼의 고유값의 개수를 출력"
      ]
    },
    {
      "cell_type": "code",
      "metadata": {
        "id": "YdvozqoZ4uhk",
        "outputId": "03e86c1d-e37d-4d74-838a-1cfeab8d5833",
        "colab": {
          "base_uri": "https://localhost:8080/"
        }
      },
      "source": [
        "# train 데이터에서 category 컬럼의 고유값의 개수를 출력\n",
        "train.category.value_counts()"
      ],
      "execution_count": 3,
      "outputs": [
        {
          "output_type": "execute_result",
          "data": {
            "text/plain": [
              "2    13362\n",
              "1    13337\n",
              "0    13301\n",
              "Name: category, dtype: int64"
            ]
          },
          "metadata": {},
          "execution_count": 3
        }
      ]
    }
  ]
}