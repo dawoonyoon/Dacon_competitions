{
  "nbformat": 4,
  "nbformat_minor": 0,
  "metadata": {
    "colab": {
      "name": "Lv1_전처리_8/14_형태소분석기",
      "provenance": [],
      "collapsed_sections": [
        "YLKidTge4gsx"
      ]
    },
    "kernelspec": {
      "name": "python3",
      "display_name": "Python 3"
    },
    "language_info": {
      "name": "python"
    }
  },
  "cells": [
    {
      "cell_type": "markdown",
      "metadata": {
        "id": "J1Is2vFL4cxY"
      },
      "source": [
        "## 실습\n",
        "---\n"
      ]
    },
    {
      "cell_type": "code",
      "metadata": {
        "id": "EHMCVSlEbT3r",
        "outputId": "f8a4f9b0-d844-42a9-b4a0-82e41163edf6",
        "colab": {
          "base_uri": "https://localhost:8080/"
        }
      },
      "source": [
        "# 라이브러리 설치\n",
        "# Okt, Komoran, Kkma 은 모두 konlpy 라이브러리에서 불러올 수 있다.\n",
        "!pip install konlpy"
      ],
      "execution_count": 1,
      "outputs": [
        {
          "output_type": "stream",
          "name": "stdout",
          "text": [
            "Collecting konlpy\n",
            "  Downloading konlpy-0.6.0-py2.py3-none-any.whl (19.4 MB)\n",
            "\u001b[K     |████████████████████████████████| 19.4 MB 1.2 MB/s \n",
            "\u001b[?25hRequirement already satisfied: lxml>=4.1.0 in /usr/local/lib/python3.7/dist-packages (from konlpy) (4.2.6)\n",
            "Collecting JPype1>=0.7.0\n",
            "  Downloading JPype1-1.3.0-cp37-cp37m-manylinux_2_5_x86_64.manylinux1_x86_64.whl (448 kB)\n",
            "\u001b[K     |████████████████████████████████| 448 kB 39.5 MB/s \n",
            "\u001b[?25hRequirement already satisfied: numpy>=1.6 in /usr/local/lib/python3.7/dist-packages (from konlpy) (1.19.5)\n",
            "Requirement already satisfied: typing-extensions in /usr/local/lib/python3.7/dist-packages (from JPype1>=0.7.0->konlpy) (3.10.0.2)\n",
            "Installing collected packages: JPype1, konlpy\n",
            "Successfully installed JPype1-1.3.0 konlpy-0.6.0\n"
          ]
        }
      ]
    },
    {
      "cell_type": "code",
      "metadata": {
        "id": "7dDyIInhADLm"
      },
      "source": [
        "#형태소를 분석할 텍스트 정의\n",
        "text = '마음에 꽂힌 칼한자루 보다 마음에 꽂힌 꽃한송이가 더 아파서 잠이 오지 않는다'"
      ],
      "execution_count": 2,
      "outputs": []
    },
    {
      "cell_type": "code",
      "metadata": {
        "id": "9K8zbEcpcbOU"
      },
      "source": [
        "from konlpy.tag import Kkma, Komoran, Okt\n",
        "\n",
        "# 형태소 분석기 정의\n",
        "okt = Okt()\n",
        "kkm = Kkma()\n",
        "kom = Komoran()"
      ],
      "execution_count": 3,
      "outputs": []
    },
    {
      "cell_type": "code",
      "metadata": {
        "id": "-dpDpY_u-fxX",
        "outputId": "3f839823-c936-4699-f192-ad8bad083ba3",
        "colab": {
          "base_uri": "https://localhost:8080/"
        }
      },
      "source": [
        "# 형태소 분석기의 pos메소드를 이용해 형태소를 분석 \n",
        "# Komoran\n",
        "kom.pos(text)"
      ],
      "execution_count": 4,
      "outputs": [
        {
          "output_type": "execute_result",
          "data": {
            "text/plain": [
              "[('마음', 'NNG'),\n",
              " ('에', 'JKB'),\n",
              " ('꽂히', 'VV'),\n",
              " ('ㄴ', 'ETM'),\n",
              " ('칼', 'NNG'),\n",
              " ('한자', 'NNP'),\n",
              " ('루', 'JKB'),\n",
              " ('보다', 'MAG'),\n",
              " ('마음', 'NNG'),\n",
              " ('에', 'JKB'),\n",
              " ('꽂히', 'VV'),\n",
              " ('ㄴ', 'ETM'),\n",
              " ('꽃', 'NNG'),\n",
              " ('한송이', 'NNP'),\n",
              " ('가', 'JKS'),\n",
              " ('더', 'MAG'),\n",
              " ('아파서', 'NNP'),\n",
              " ('잠', 'NNG'),\n",
              " ('이', 'JKS'),\n",
              " ('오', 'VV'),\n",
              " ('지', 'EC'),\n",
              " ('않', 'VX'),\n",
              " ('는다', 'EC')]"
            ]
          },
          "metadata": {},
          "execution_count": 4
        }
      ]
    },
    {
      "cell_type": "code",
      "metadata": {
        "id": "VZjSFNl--gg2",
        "outputId": "dc3e8259-b057-44da-de4a-af75b9261a9b",
        "colab": {
          "base_uri": "https://localhost:8080/"
        }
      },
      "source": [
        "# 형태소 분석기의 pos메소드를 이용해 형태소를 분석 \n",
        "# Kkma\n",
        "kkm.pos(text)"
      ],
      "execution_count": 5,
      "outputs": [
        {
          "output_type": "execute_result",
          "data": {
            "text/plain": [
              "[('마음', 'NNG'),\n",
              " ('에', 'JKM'),\n",
              " ('꽂히', 'VV'),\n",
              " ('ㄴ', 'ETD'),\n",
              " ('칼', 'NNG'),\n",
              " ('한자', 'NNG'),\n",
              " ('로', 'JKM'),\n",
              " ('보다', 'MAG'),\n",
              " ('마음', 'NNG'),\n",
              " ('에', 'JKM'),\n",
              " ('꽂히', 'VV'),\n",
              " ('ㄴ', 'ETD'),\n",
              " ('꽃', 'NNG'),\n",
              " ('한', 'MDN'),\n",
              " ('송이', 'NNG'),\n",
              " ('가', 'JKS'),\n",
              " ('더', 'MAG'),\n",
              " ('아프', 'VA'),\n",
              " ('아서', 'ECD'),\n",
              " ('잠', 'NNG'),\n",
              " ('이', 'JKS'),\n",
              " ('오', 'VV'),\n",
              " ('지', 'ECD'),\n",
              " ('않', 'VXV'),\n",
              " ('는', 'EPT'),\n",
              " ('다', 'EFN')]"
            ]
          },
          "metadata": {},
          "execution_count": 5
        }
      ]
    },
    {
      "cell_type": "code",
      "metadata": {
        "id": "ffmGLnqK-jwO",
        "outputId": "18e31dca-31ab-49cf-99d5-96dbddb15b09",
        "colab": {
          "base_uri": "https://localhost:8080/"
        }
      },
      "source": [
        "# 형태소 분석기의 pos메소드를 이용해 형태소를 분석 \n",
        "# Okt\n",
        "okt.pos(text, norm=True, stem=True)"
      ],
      "execution_count": 6,
      "outputs": [
        {
          "output_type": "execute_result",
          "data": {
            "text/plain": [
              "[('마음', 'Noun'),\n",
              " ('에', 'Josa'),\n",
              " ('꽂히다', 'Verb'),\n",
              " ('칼', 'Noun'),\n",
              " ('한', 'Determiner'),\n",
              " ('자루', 'Noun'),\n",
              " ('보다', 'Verb'),\n",
              " ('마음', 'Noun'),\n",
              " ('에', 'Josa'),\n",
              " ('꽂히다', 'Verb'),\n",
              " ('꽃', 'Noun'),\n",
              " ('한송이', 'Noun'),\n",
              " ('가', 'Josa'),\n",
              " ('더', 'Noun'),\n",
              " ('아프다', 'Adjective'),\n",
              " ('잠', 'Noun'),\n",
              " ('이', 'Josa'),\n",
              " ('오지', 'Noun'),\n",
              " ('않다', 'Verb')]"
            ]
          },
          "metadata": {},
          "execution_count": 6
        }
      ]
    }
  ]
}