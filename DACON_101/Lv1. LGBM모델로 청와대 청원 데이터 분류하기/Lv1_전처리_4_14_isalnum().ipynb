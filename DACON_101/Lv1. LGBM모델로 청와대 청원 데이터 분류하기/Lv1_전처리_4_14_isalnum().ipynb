{
  "nbformat": 4,
  "nbformat_minor": 0,
  "metadata": {
    "colab": {
      "name": "Lv1_전처리_4/14_isalnum()",
      "provenance": [],
      "collapsed_sections": [
        "YLKidTge4gsx"
      ]
    },
    "kernelspec": {
      "name": "python3",
      "display_name": "Python 3"
    },
    "language_info": {
      "name": "python"
    }
  },
  "cells": [
    {
      "cell_type": "markdown",
      "metadata": {
        "id": "J1Is2vFL4cxY"
      },
      "source": [
        "## 실습\n",
        "---\n"
      ]
    },
    {
      "cell_type": "code",
      "metadata": {
        "id": "j7rIX3r0S_zo",
        "outputId": "83568578-7cc8-458a-c410-ea3185876ed9",
        "colab": {
          "base_uri": "https://localhost:8080/"
        }
      },
      "source": [
        "# isalnum 메소드를 이용해 output에 해당하는 값이 출력 되도록 특정 문자열을 제거 해보세요.\n",
        "\n",
        "string=\"year : 2021, month : 09, day : 24\"\n",
        "\n",
        "# output : year2021month09day24\n",
        "\n",
        "isalnum_list = []\n",
        "\n",
        "for i in string:\n",
        "  if i.isalnum():\n",
        "    isalnum_list.append(i)\n",
        "\n",
        "string_isalnum = ''.join(isalnum_list)\n",
        "print(string_isalnum)"
      ],
      "execution_count": 1,
      "outputs": [
        {
          "output_type": "stream",
          "name": "stdout",
          "text": [
            "year2021month09day24\n"
          ]
        }
      ]
    }
  ]
}