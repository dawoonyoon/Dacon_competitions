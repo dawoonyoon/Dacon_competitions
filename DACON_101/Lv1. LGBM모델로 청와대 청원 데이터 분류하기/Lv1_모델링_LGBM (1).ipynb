{
  "nbformat": 4,
  "nbformat_minor": 0,
  "metadata": {
    "colab": {
      "name": "Lv1_모델링_LGBM",
      "provenance": [],
      "collapsed_sections": [
        "YLKidTge4gsx"
      ]
    },
    "kernelspec": {
      "name": "python3",
      "display_name": "Python 3"
    },
    "language_info": {
      "name": "python"
    }
  },
  "cells": [
    {
      "cell_type": "markdown",
      "metadata": {
        "id": "FqodyLxg4RLu"
      },
      "source": [
        "## 데이터 다운로드\n",
        "--- \n",
        "아래 셀을 실행시켜 데이터를 colab에 불러옵니다.  \n",
        "셀 실행은 <br>Windows: `Ctrl` + `Enter`<br>\n",
        "Mac: `Shift` + `Enter` <br>\n",
        "를 이용해 실행 시킬 수 있습니다. "
      ]
    },
    {
      "cell_type": "code",
      "metadata": {
        "id": "by55dpRPfTwZ",
        "outputId": "88c7a5be-76c1-4514-9a3d-446f2a8dc53a",
        "colab": {
          "base_uri": "https://localhost:8080/"
        }
      },
      "source": [
        "# 데이터 다운로드 링크로 데이터를 코랩에 불러옵니다.\n",
        "\n",
        "!wget 'https://bit.ly/3l6g8j3'\n",
        "\n",
        "import zipfile\n",
        "with zipfile.ZipFile('3l6g8j3', 'r') as existing_zip:\n",
        "    existing_zip.extractall('data')"
      ],
      "execution_count": 1,
      "outputs": [
        {
          "output_type": "stream",
          "name": "stdout",
          "text": [
            "--2022-02-07 14:18:24--  https://bit.ly/3l6g8j3\n",
            "Resolving bit.ly (bit.ly)... 67.199.248.10, 67.199.248.11\n",
            "Connecting to bit.ly (bit.ly)|67.199.248.10|:443... connected.\n",
            "HTTP request sent, awaiting response... 301 Moved Permanently\n",
            "Location: https://docs.google.com/uc?export=download&id=1n-cTWLp385P-DmmNuMAg6zJDw8MNAPwu [following]\n",
            "--2022-02-07 14:18:24--  https://docs.google.com/uc?export=download&id=1n-cTWLp385P-DmmNuMAg6zJDw8MNAPwu\n",
            "Resolving docs.google.com (docs.google.com)... 142.250.125.102, 142.250.125.139, 142.250.125.113, ...\n",
            "Connecting to docs.google.com (docs.google.com)|142.250.125.102|:443... connected.\n",
            "HTTP request sent, awaiting response... 302 Moved Temporarily\n",
            "Location: https://doc-0g-10-docs.googleusercontent.com/docs/securesc/ha0ro937gcuc7l7deffksulhg5h7mbp1/cep32ec82kj2vaos4n82f4lqngbv0hd5/1644243450000/17946651057176172524/*/1n-cTWLp385P-DmmNuMAg6zJDw8MNAPwu?e=download [following]\n",
            "Warning: wildcards not supported in HTTP.\n",
            "--2022-02-07 14:18:27--  https://doc-0g-10-docs.googleusercontent.com/docs/securesc/ha0ro937gcuc7l7deffksulhg5h7mbp1/cep32ec82kj2vaos4n82f4lqngbv0hd5/1644243450000/17946651057176172524/*/1n-cTWLp385P-DmmNuMAg6zJDw8MNAPwu?e=download\n",
            "Resolving doc-0g-10-docs.googleusercontent.com (doc-0g-10-docs.googleusercontent.com)... 173.194.194.132, 2607:f8b0:4001:c10::84\n",
            "Connecting to doc-0g-10-docs.googleusercontent.com (doc-0g-10-docs.googleusercontent.com)|173.194.194.132|:443... connected.\n",
            "HTTP request sent, awaiting response... 200 OK\n",
            "Length: 22312699 (21M) [application/x-zip-compressed]\n",
            "Saving to: ‘3l6g8j3’\n",
            "\n",
            "3l6g8j3             100%[===================>]  21.28M   111MB/s    in 0.2s    \n",
            "\n",
            "2022-02-07 14:18:27 (111 MB/s) - ‘3l6g8j3’ saved [22312699/22312699]\n",
            "\n"
          ]
        }
      ]
    },
    {
      "cell_type": "code",
      "metadata": {
        "id": "DmDU-A_HPeEb"
      },
      "source": [
        "import pandas as pd\n",
        "\n",
        "train = pd.read_csv('data/train.csv',usecols = ['category','data'])\n",
        "test = pd.read_csv('data/test.csv',usecols = ['data'])"
      ],
      "execution_count": 2,
      "outputs": []
    },
    {
      "cell_type": "code",
      "metadata": {
        "id": "4Cc1TtCoDAwl"
      },
      "source": [
        "# train,test 데이터에서  '\\\\n' 단어 제거\n",
        "\n",
        "train['data'] = train['data'].apply(lambda x : str(x).replace('\\\\n',' ')) # 텍스트 데이터에서 '\\\\n' 문자열을 ' '로 변경\n",
        "test['data'] = test['data'].apply(lambda x : str(x).replace('\\\\n',' ')) # 텍스트 데이터에서 '\\\\n' 문자열을 ' '로 변경"
      ],
      "execution_count": 3,
      "outputs": []
    },
    {
      "cell_type": "code",
      "metadata": {
        "id": "p5Psv8eCDArE",
        "outputId": "cb1e759c-5a82-4a2a-d9d3-7c52425f9607",
        "colab": {
          "base_uri": "https://localhost:8080/"
        }
      },
      "source": [
        "# 라이브러리 로딩\n",
        "from sklearn.feature_extraction.text import TfidfVectorizer\n",
        "\n",
        "#TF-IDF으로 train 데이터를 피처 벡터화 변환 수행\n",
        "\n",
        "vect = TfidfVectorizer()\n",
        "vect.fit(train['data'])\n",
        "train_x =  vect.transform(train['data'])\n",
        "\n",
        "print('train data size', train_x.shape)"
      ],
      "execution_count": 4,
      "outputs": [
        {
          "output_type": "stream",
          "name": "stdout",
          "text": [
            "train data size (40000, 697226)\n"
          ]
        }
      ]
    },
    {
      "cell_type": "markdown",
      "metadata": {
        "id": "J1Is2vFL4cxY"
      },
      "source": [
        "## 실습\n",
        "---\n"
      ]
    },
    {
      "cell_type": "code",
      "metadata": {
        "id": "-ycjElp2eW3Q"
      },
      "source": [
        "# 라이브러리 로딩\n",
        "from sklearn.model_selection import train_test_split"
      ],
      "execution_count": 5,
      "outputs": []
    },
    {
      "cell_type": "code",
      "metadata": {
        "id": "RPmiHhqEfhQx"
      },
      "source": [
        "# train_test_split() 메소드를 이용해 train/validation 데이터 나누기 \n",
        "# stratify 옵션을 활용하여 데이터 셋 split\n",
        "\n",
        "x_train,x_valid, y_train, y_valid = train_test_split(train_x, train['category'], stratify=train['category'])"
      ],
      "execution_count": 6,
      "outputs": []
    },
    {
      "cell_type": "code",
      "metadata": {
        "id": "a52vZxPDDk7-",
        "outputId": "bcf69aa5-6e7f-47b5-91e0-c834a6391104",
        "colab": {
          "base_uri": "https://localhost:8080/"
        }
      },
      "source": [
        "# LightGBM을 이용해 학습 및 검증 진행\n",
        "from lightgbm import LGBMClassifier\n",
        "\n",
        "model = LGBMClassifier()\n",
        "model.fit( x_train, y_train,\n",
        "          eval_set = [ (x_train, y_train), (x_valid, y_valid)] )"
      ],
      "execution_count": 8,
      "outputs": [
        {
          "output_type": "stream",
          "name": "stdout",
          "text": [
            "[1]\ttraining's multi_logloss: 1.04869\tvalid_1's multi_logloss: 1.04989\n",
            "[2]\ttraining's multi_logloss: 1.00591\tvalid_1's multi_logloss: 1.00802\n",
            "[3]\ttraining's multi_logloss: 0.96859\tvalid_1's multi_logloss: 0.971726\n",
            "[4]\ttraining's multi_logloss: 0.93596\tvalid_1's multi_logloss: 0.939976\n",
            "[5]\ttraining's multi_logloss: 0.906905\tvalid_1's multi_logloss: 0.911552\n",
            "[6]\ttraining's multi_logloss: 0.880902\tvalid_1's multi_logloss: 0.886161\n",
            "[7]\ttraining's multi_logloss: 0.8575\tvalid_1's multi_logloss: 0.863442\n",
            "[8]\ttraining's multi_logloss: 0.836322\tvalid_1's multi_logloss: 0.84332\n",
            "[9]\ttraining's multi_logloss: 0.817084\tvalid_1's multi_logloss: 0.824546\n",
            "[10]\ttraining's multi_logloss: 0.799455\tvalid_1's multi_logloss: 0.807228\n",
            "[11]\ttraining's multi_logloss: 0.783007\tvalid_1's multi_logloss: 0.791771\n",
            "[12]\ttraining's multi_logloss: 0.767788\tvalid_1's multi_logloss: 0.777432\n",
            "[13]\ttraining's multi_logloss: 0.753635\tvalid_1's multi_logloss: 0.764087\n",
            "[14]\ttraining's multi_logloss: 0.740591\tvalid_1's multi_logloss: 0.751787\n",
            "[15]\ttraining's multi_logloss: 0.728573\tvalid_1's multi_logloss: 0.740642\n",
            "[16]\ttraining's multi_logloss: 0.717213\tvalid_1's multi_logloss: 0.730226\n",
            "[17]\ttraining's multi_logloss: 0.706652\tvalid_1's multi_logloss: 0.719947\n",
            "[18]\ttraining's multi_logloss: 0.696554\tvalid_1's multi_logloss: 0.710771\n",
            "[19]\ttraining's multi_logloss: 0.687289\tvalid_1's multi_logloss: 0.702319\n",
            "[20]\ttraining's multi_logloss: 0.678384\tvalid_1's multi_logloss: 0.693968\n",
            "[21]\ttraining's multi_logloss: 0.669928\tvalid_1's multi_logloss: 0.686235\n",
            "[22]\ttraining's multi_logloss: 0.661948\tvalid_1's multi_logloss: 0.679041\n",
            "[23]\ttraining's multi_logloss: 0.654312\tvalid_1's multi_logloss: 0.671986\n",
            "[24]\ttraining's multi_logloss: 0.647075\tvalid_1's multi_logloss: 0.665664\n",
            "[25]\ttraining's multi_logloss: 0.640158\tvalid_1's multi_logloss: 0.659438\n",
            "[26]\ttraining's multi_logloss: 0.633485\tvalid_1's multi_logloss: 0.653603\n",
            "[27]\ttraining's multi_logloss: 0.627125\tvalid_1's multi_logloss: 0.647696\n",
            "[28]\ttraining's multi_logloss: 0.621088\tvalid_1's multi_logloss: 0.642401\n",
            "[29]\ttraining's multi_logloss: 0.615297\tvalid_1's multi_logloss: 0.637258\n",
            "[30]\ttraining's multi_logloss: 0.609735\tvalid_1's multi_logloss: 0.632379\n",
            "[31]\ttraining's multi_logloss: 0.604333\tvalid_1's multi_logloss: 0.627151\n",
            "[32]\ttraining's multi_logloss: 0.599115\tvalid_1's multi_logloss: 0.622674\n",
            "[33]\ttraining's multi_logloss: 0.594218\tvalid_1's multi_logloss: 0.618288\n",
            "[34]\ttraining's multi_logloss: 0.58939\tvalid_1's multi_logloss: 0.614092\n",
            "[35]\ttraining's multi_logloss: 0.584817\tvalid_1's multi_logloss: 0.610118\n",
            "[36]\ttraining's multi_logloss: 0.580329\tvalid_1's multi_logloss: 0.606419\n",
            "[37]\ttraining's multi_logloss: 0.576026\tvalid_1's multi_logloss: 0.602474\n",
            "[38]\ttraining's multi_logloss: 0.571807\tvalid_1's multi_logloss: 0.598822\n",
            "[39]\ttraining's multi_logloss: 0.567721\tvalid_1's multi_logloss: 0.595334\n",
            "[40]\ttraining's multi_logloss: 0.563829\tvalid_1's multi_logloss: 0.591946\n",
            "[41]\ttraining's multi_logloss: 0.560043\tvalid_1's multi_logloss: 0.588814\n",
            "[42]\ttraining's multi_logloss: 0.556368\tvalid_1's multi_logloss: 0.585888\n",
            "[43]\ttraining's multi_logloss: 0.552784\tvalid_1's multi_logloss: 0.582699\n",
            "[44]\ttraining's multi_logloss: 0.549339\tvalid_1's multi_logloss: 0.579858\n",
            "[45]\ttraining's multi_logloss: 0.54591\tvalid_1's multi_logloss: 0.577041\n",
            "[46]\ttraining's multi_logloss: 0.542583\tvalid_1's multi_logloss: 0.574496\n",
            "[47]\ttraining's multi_logloss: 0.539329\tvalid_1's multi_logloss: 0.571694\n",
            "[48]\ttraining's multi_logloss: 0.536234\tvalid_1's multi_logloss: 0.569199\n",
            "[49]\ttraining's multi_logloss: 0.533136\tvalid_1's multi_logloss: 0.566626\n",
            "[50]\ttraining's multi_logloss: 0.530157\tvalid_1's multi_logloss: 0.564131\n",
            "[51]\ttraining's multi_logloss: 0.52728\tvalid_1's multi_logloss: 0.561825\n",
            "[52]\ttraining's multi_logloss: 0.5244\tvalid_1's multi_logloss: 0.559273\n",
            "[53]\ttraining's multi_logloss: 0.52164\tvalid_1's multi_logloss: 0.557249\n",
            "[54]\ttraining's multi_logloss: 0.518898\tvalid_1's multi_logloss: 0.55504\n",
            "[55]\ttraining's multi_logloss: 0.516211\tvalid_1's multi_logloss: 0.552822\n",
            "[56]\ttraining's multi_logloss: 0.513618\tvalid_1's multi_logloss: 0.550707\n",
            "[57]\ttraining's multi_logloss: 0.511059\tvalid_1's multi_logloss: 0.548686\n",
            "[58]\ttraining's multi_logloss: 0.508569\tvalid_1's multi_logloss: 0.546829\n",
            "[59]\ttraining's multi_logloss: 0.50607\tvalid_1's multi_logloss: 0.545086\n",
            "[60]\ttraining's multi_logloss: 0.503614\tvalid_1's multi_logloss: 0.543068\n",
            "[61]\ttraining's multi_logloss: 0.501248\tvalid_1's multi_logloss: 0.541343\n",
            "[62]\ttraining's multi_logloss: 0.498923\tvalid_1's multi_logloss: 0.539344\n",
            "[63]\ttraining's multi_logloss: 0.496665\tvalid_1's multi_logloss: 0.537654\n",
            "[64]\ttraining's multi_logloss: 0.494429\tvalid_1's multi_logloss: 0.536102\n",
            "[65]\ttraining's multi_logloss: 0.492234\tvalid_1's multi_logloss: 0.534478\n",
            "[66]\ttraining's multi_logloss: 0.490074\tvalid_1's multi_logloss: 0.532931\n",
            "[67]\ttraining's multi_logloss: 0.48796\tvalid_1's multi_logloss: 0.531346\n",
            "[68]\ttraining's multi_logloss: 0.48587\tvalid_1's multi_logloss: 0.530131\n",
            "[69]\ttraining's multi_logloss: 0.483817\tvalid_1's multi_logloss: 0.528504\n",
            "[70]\ttraining's multi_logloss: 0.481786\tvalid_1's multi_logloss: 0.52722\n",
            "[71]\ttraining's multi_logloss: 0.479826\tvalid_1's multi_logloss: 0.525766\n",
            "[72]\ttraining's multi_logloss: 0.477852\tvalid_1's multi_logloss: 0.524318\n",
            "[73]\ttraining's multi_logloss: 0.475951\tvalid_1's multi_logloss: 0.523025\n",
            "[74]\ttraining's multi_logloss: 0.474033\tvalid_1's multi_logloss: 0.521758\n",
            "[75]\ttraining's multi_logloss: 0.472165\tvalid_1's multi_logloss: 0.520573\n",
            "[76]\ttraining's multi_logloss: 0.470323\tvalid_1's multi_logloss: 0.51922\n",
            "[77]\ttraining's multi_logloss: 0.468505\tvalid_1's multi_logloss: 0.517978\n",
            "[78]\ttraining's multi_logloss: 0.466696\tvalid_1's multi_logloss: 0.516787\n",
            "[79]\ttraining's multi_logloss: 0.464932\tvalid_1's multi_logloss: 0.515699\n",
            "[80]\ttraining's multi_logloss: 0.463193\tvalid_1's multi_logloss: 0.514581\n",
            "[81]\ttraining's multi_logloss: 0.461488\tvalid_1's multi_logloss: 0.513336\n",
            "[82]\ttraining's multi_logloss: 0.459773\tvalid_1's multi_logloss: 0.512314\n",
            "[83]\ttraining's multi_logloss: 0.458091\tvalid_1's multi_logloss: 0.511338\n",
            "[84]\ttraining's multi_logloss: 0.456414\tvalid_1's multi_logloss: 0.510417\n",
            "[85]\ttraining's multi_logloss: 0.454744\tvalid_1's multi_logloss: 0.509487\n",
            "[86]\ttraining's multi_logloss: 0.453152\tvalid_1's multi_logloss: 0.508455\n",
            "[87]\ttraining's multi_logloss: 0.451539\tvalid_1's multi_logloss: 0.507505\n",
            "[88]\ttraining's multi_logloss: 0.44994\tvalid_1's multi_logloss: 0.506631\n",
            "[89]\ttraining's multi_logloss: 0.448388\tvalid_1's multi_logloss: 0.505714\n",
            "[90]\ttraining's multi_logloss: 0.446858\tvalid_1's multi_logloss: 0.504842\n",
            "[91]\ttraining's multi_logloss: 0.445347\tvalid_1's multi_logloss: 0.503932\n",
            "[92]\ttraining's multi_logloss: 0.443868\tvalid_1's multi_logloss: 0.503137\n",
            "[93]\ttraining's multi_logloss: 0.44238\tvalid_1's multi_logloss: 0.502327\n",
            "[94]\ttraining's multi_logloss: 0.440881\tvalid_1's multi_logloss: 0.50148\n",
            "[95]\ttraining's multi_logloss: 0.439424\tvalid_1's multi_logloss: 0.500716\n",
            "[96]\ttraining's multi_logloss: 0.437987\tvalid_1's multi_logloss: 0.49988\n",
            "[97]\ttraining's multi_logloss: 0.43658\tvalid_1's multi_logloss: 0.498991\n",
            "[98]\ttraining's multi_logloss: 0.435164\tvalid_1's multi_logloss: 0.498149\n",
            "[99]\ttraining's multi_logloss: 0.433766\tvalid_1's multi_logloss: 0.497405\n",
            "[100]\ttraining's multi_logloss: 0.432364\tvalid_1's multi_logloss: 0.49659\n"
          ]
        },
        {
          "output_type": "execute_result",
          "data": {
            "text/plain": [
              "LGBMClassifier()"
            ]
          },
          "metadata": {},
          "execution_count": 8
        }
      ]
    }
  ]
}