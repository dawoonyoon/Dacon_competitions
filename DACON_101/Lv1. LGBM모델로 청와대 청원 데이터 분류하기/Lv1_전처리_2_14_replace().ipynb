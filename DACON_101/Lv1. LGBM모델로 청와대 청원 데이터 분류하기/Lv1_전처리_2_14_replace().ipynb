{
  "nbformat": 4,
  "nbformat_minor": 0,
  "metadata": {
    "colab": {
      "name": "Lv1_전처리_2/14_replace()",
      "provenance": [],
      "collapsed_sections": [
        "YLKidTge4gsx"
      ]
    },
    "kernelspec": {
      "name": "python3",
      "display_name": "Python 3"
    },
    "language_info": {
      "name": "python"
    }
  },
  "cells": [
    {
      "cell_type": "markdown",
      "metadata": {
        "id": "Y8EsppNShcez"
      },
      "source": [
        "# 셀을 실행할 때 팝업이 뜨면 `무시하고 계속하기` 를 눌러주세요\n"
      ]
    },
    {
      "cell_type": "markdown",
      "metadata": {
        "id": "J1Is2vFL4cxY"
      },
      "source": [
        "## 실습\n",
        "---\n",
        "replace() 메소드를 이용해 주어지는 문자열을 변경해 보세요 !"
      ]
    },
    {
      "cell_type": "code",
      "metadata": {
        "id": "YdvozqoZ4uhk",
        "outputId": "e8858bcb-b805-4d12-d73b-7f17d7e98106",
        "colab": {
          "base_uri": "https://localhost:8080/",
          "height": 35
        }
      },
      "source": [
        "# string 문자열을 replace()메소드를 이용해 hi python 으로 변경해 보세요.\n",
        "string = 'hello python'\n",
        "\n",
        "string_replace = string.replace('hello', 'hi')\n",
        "\n",
        "string_replace"
      ],
      "execution_count": 2,
      "outputs": [
        {
          "output_type": "execute_result",
          "data": {
            "application/vnd.google.colaboratory.intrinsic+json": {
              "type": "string"
            },
            "text/plain": [
              "'hi python'"
            ]
          },
          "metadata": {},
          "execution_count": 2
        }
      ]
    },
    {
      "cell_type": "code",
      "metadata": {
        "id": "j7rIX3r0S_zo",
        "outputId": "5ed9b868-d479-4494-debd-3758f883c790",
        "colab": {
          "base_uri": "https://localhost:8080/"
        }
      },
      "source": [
        "# replace() 메소드를 이용해 해당 하는 출력값이 나오도록 문자열을 변경해 보세요.\n",
        "\n",
        "string = '123,456,789'\n",
        "\n",
        "# 출력값 : 123456,789 \n",
        "print(string.replace(',', '', 1))\n",
        "\n",
        "# 출력값 : 123456789 \n",
        "print(string.replace(',', ''))"
      ],
      "execution_count": 3,
      "outputs": [
        {
          "output_type": "stream",
          "name": "stdout",
          "text": [
            "123456,789\n",
            "123456789\n"
          ]
        }
      ]
    }
  ]
}