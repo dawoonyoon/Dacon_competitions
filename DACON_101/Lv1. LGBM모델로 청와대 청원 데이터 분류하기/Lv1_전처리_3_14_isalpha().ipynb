{
  "nbformat": 4,
  "nbformat_minor": 0,
  "metadata": {
    "colab": {
      "name": "Lv1_전처리_3/14_isalpha()",
      "provenance": [],
      "collapsed_sections": [
        "YLKidTge4gsx"
      ]
    },
    "kernelspec": {
      "name": "python3",
      "display_name": "Python 3"
    },
    "language_info": {
      "name": "python"
    }
  },
  "cells": [
    {
      "cell_type": "markdown",
      "metadata": {
        "id": "J1Is2vFL4cxY"
      },
      "source": [
        "## 실습\n",
        "---\n"
      ]
    },
    {
      "cell_type": "code",
      "metadata": {
        "id": "j7rIX3r0S_zo",
        "outputId": "6cb5e25b-1311-444b-a6d8-291d7493b478",
        "colab": {
          "base_uri": "https://localhost:8080/"
        }
      },
      "source": [
        "# isalpha 메소드를 이용해 output에 해당하는 값이 출력 되도록 특정 문자열을 제거 해보세요.\n",
        "\n",
        "\n",
        "string=\"Hello$@ Python3&\"\n",
        "\n",
        "# output :HelloPython\n",
        "\n",
        "isalpha_list = []\n",
        "\n",
        "for i in string:\n",
        "  if i.isalpha():\n",
        "    isalpha_list.append(i)\n",
        "\n",
        "string_isalpha = ''.join(isalpha_list)\n",
        "print(string_isalpha)"
      ],
      "execution_count": 1,
      "outputs": [
        {
          "output_type": "stream",
          "name": "stdout",
          "text": [
            "HelloPython\n"
          ]
        }
      ]
    }
  ]
}